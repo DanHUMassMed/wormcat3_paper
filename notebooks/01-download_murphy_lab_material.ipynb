{
 "cells": [
  {
   "cell_type": "markdown",
   "id": "07b8cc82",
   "metadata": {},
   "source": [
    "## Environment\n",
    "Using Kernel: `dan-dev-py312-r433`\n",
    "\n",
    "-----"
   ]
  },
  {
   "cell_type": "markdown",
   "id": "3830cf90",
   "metadata": {},
   "source": [
    "# Murphy Lab Papers"
   ]
  },
  {
   "cell_type": "markdown",
   "id": "c37ec9d6",
   "metadata": {},
   "source": [
    "#### Transcriptome analysis of adult Caenorhabditis elegans cells reveals tissue-specific gene and isoform expression\n",
    "\n",
    "- Authors\n",
    "    - Rachel Kaletsky ,Victoria Yao, April Williams, Alexi M. Runnels, Alicja Tadych, Shiyi Zhou, Olga G. Troyanskaya, Coleen T. Murphy \n",
    "\n",
    "- Paper Location\n",
    "    - https://journals.plos.org/plosgenetics/article?id=10.1371/journal.pgen.1007559\n",
    "\n",
    "- Supplemental Material\n",
    "    - https://doi.org/10.1371/journal.pgen.1007559.s010"
   ]
  },
  {
   "cell_type": "markdown",
   "id": "1fa5b700",
   "metadata": {},
   "source": [
    "-----"
   ]
  },
  {
   "cell_type": "code",
   "execution_count": null,
   "id": "0e9785aa",
   "metadata": {},
   "outputs": [
    {
     "name": "stdout",
     "output_type": "stream",
     "text": [
      "File ‘pgen.1007559.s010.xlsx’ already there; not retrieving.\n"
     ]
    }
   ],
   "source": [
    "# Transcriptome analysis of adult Caenorhabditis elegans cells reveals tissue-specific gene and isoform expression\n",
    "\n",
    "!mkdir -p ../source_data/murphy_lab\n",
    "\n",
    "!cd ../source_data/murphy_lab && wget -nc -O pgen.1007559.s010.xlsx https://doi.org/10.1371/journal.pgen.1007559.s010\n"
   ]
  },
  {
   "cell_type": "markdown",
   "id": "01b6c3fd",
   "metadata": {},
   "source": [
    "-----\n",
    "\n",
    "- **Create README.md**"
   ]
  },
  {
   "cell_type": "code",
   "execution_count": 3,
   "id": "d4ca7da4",
   "metadata": {},
   "outputs": [],
   "source": [
    "readme = \"\"\"\n",
    "#### Transcriptome analysis of adult Caenorhabditis elegans cells reveals tissue-specific gene and isoform expression\n",
    "\n",
    "- Authors\n",
    "    - Rachel Kaletsky ,Victoria Yao, April Williams, Alexi M. Runnels, Alicja Tadych, Shiyi Zhou, Olga G. Troyanskaya, Coleen T. Murphy \n",
    "\n",
    "- Paper Location\n",
    "    - https://journals.plos.org/plosgenetics/article?id=10.1371/journal.pgen.1007559\n",
    "\n",
    "- Supplemental Material\n",
    "    - https://doi.org/10.1371/journal.pgen.1007559.s010\n",
    "\"\"\"\n",
    "with open(\"../source_data/murphy_lab/README.md\", \"w\", encoding=\"utf-8\") as f:\n",
    "    f.write(readme)\n",
    "    "
   ]
  },
  {
   "cell_type": "markdown",
   "id": "64b301a8",
   "metadata": {},
   "source": []
  }
 ],
 "metadata": {
  "kernelspec": {
   "display_name": "dan-dev-py312-r433",
   "language": "python",
   "name": "python3"
  },
  "language_info": {
   "codemirror_mode": {
    "name": "ipython",
    "version": 3
   },
   "file_extension": ".py",
   "mimetype": "text/x-python",
   "name": "python",
   "nbconvert_exporter": "python",
   "pygments_lexer": "ipython3",
   "version": "3.12.2"
  }
 },
 "nbformat": 4,
 "nbformat_minor": 5
}
