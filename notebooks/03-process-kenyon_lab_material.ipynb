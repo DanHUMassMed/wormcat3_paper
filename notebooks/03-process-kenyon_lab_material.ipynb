{
 "cells": [
  {
   "cell_type": "markdown",
   "id": "4b6d9705",
   "metadata": {},
   "source": [
    "## Environment\n",
    "Using Kernel: `dan-dev-py312-r433`\n",
    "\n",
    "-----"
   ]
  },
  {
   "cell_type": "code",
   "execution_count": 2,
   "id": "0263b7b8",
   "metadata": {},
   "outputs": [],
   "source": [
    "from pathlib import Path\n",
    "\n",
    "derived_data_path = Path(\"../derived_data/kenyon_lab\")\n",
    "output_analysis_path = \"../analysis/kenyon_lab\""
   ]
  },
  {
   "cell_type": "code",
   "execution_count": 4,
   "id": "bba0c52e",
   "metadata": {},
   "outputs": [
    {
     "name": "stdout",
     "output_type": "stream",
     "text": [
      "Analysis complete. Output can be found at ../analysis/kenyon_lab/kenyon_whole_genome_56682\n"
     ]
    }
   ],
   "source": [
    "from wormcat3 import Wormcat, WormcatError, PAdjustMethod\n",
    "\n",
    "kenyon_data_file_path = str(derived_data_path / \"kenyon.csv\")\n",
    "\n",
    "wormcat = Wormcat(title=\"kenyon whole genome\", \n",
    "                  working_dir_path = output_analysis_path,\n",
    "                  annotation_file_name = 'whole_genome_v2_nov-11-2021.csv')\n",
    "wormcat.analyze_and_visualize_enrichment(kenyon_data_file_path)\n"
   ]
  },
  {
   "cell_type": "code",
   "execution_count": null,
   "id": "da776df2",
   "metadata": {},
   "outputs": [],
   "source": []
  }
 ],
 "metadata": {
  "kernelspec": {
   "display_name": "dan-dev-py312-r433",
   "language": "python",
   "name": "python3"
  },
  "language_info": {
   "codemirror_mode": {
    "name": "ipython",
    "version": 3
   },
   "file_extension": ".py",
   "mimetype": "text/x-python",
   "name": "python",
   "nbconvert_exporter": "python",
   "pygments_lexer": "ipython3",
   "version": "3.12.2"
  }
 },
 "nbformat": 4,
 "nbformat_minor": 5
}
