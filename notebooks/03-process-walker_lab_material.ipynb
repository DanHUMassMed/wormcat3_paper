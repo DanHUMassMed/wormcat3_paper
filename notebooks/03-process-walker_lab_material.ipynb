{
 "cells": [
  {
   "cell_type": "markdown",
   "id": "7c80fef9",
   "metadata": {},
   "source": [
    "## Environment\n",
    "Using Kernel: `dan-dev-py312-r433`\n",
    "\n",
    "-----"
   ]
  },
  {
   "cell_type": "code",
   "execution_count": 1,
   "id": "dba3d7de",
   "metadata": {},
   "outputs": [
    {
     "name": "stdout",
     "output_type": "stream",
     "text": [
      "Working directory: /Users/dan/Code/Python/wormcat3\n"
     ]
    }
   ],
   "source": [
    "import sys\n",
    "import os\n",
    "\n",
    "# ##### SET SYS PATH TO WHERE THE SOURCE CODE IS. #####\n",
    "# Note: This is not required if you are using the pip installed package\n",
    "wormcat_dir = \"/Users/dan/Code/Python/wormcat3\"\n",
    "sys.path.insert(0, wormcat_dir)\n",
    "\n",
    "print(\"Working directory:\", wormcat_dir)"
   ]
  },
  {
   "cell_type": "code",
   "execution_count": 2,
   "id": "ce2c6c77",
   "metadata": {},
   "outputs": [
    {
     "name": "stdout",
     "output_type": "stream",
     "text": [
      "Wormcat3 0.1.7\n"
     ]
    },
    {
     "data": {
      "text/plain": [
       "['ORF_only_v2_nov-11-2021.csv',\n",
       " 'ahringer_v2_nov-11-2021.csv',\n",
       " 'orfeome_v2_nov-11-2021.csv',\n",
       " 'whole_genome_v2_nov-11-2021.csv']"
      ]
     },
     "execution_count": 2,
     "metadata": {},
     "output_type": "execute_result"
    }
   ],
   "source": [
    "# What Annotations are available by default?\n",
    "\n",
    "import wormcat3\n",
    "from wormcat3 import AnnotationsManager\n",
    "print(f\"Wormcat3 {wormcat3.__version__}\")\n",
    "AnnotationsManager.available_annotation_files()\n"
   ]
  },
  {
   "cell_type": "code",
   "execution_count": 3,
   "id": "0a8a5707",
   "metadata": {},
   "outputs": [
    {
     "name": "stdout",
     "output_type": "stream",
     "text": [
      "[<PAdjustMethod.BONFERRONI: 'bonferroni'>, <PAdjustMethod.FDR: 'fdr_bh'>]\n"
     ]
    }
   ],
   "source": [
    "# What PAdjustMethod(s) are available?\n",
    "\n",
    "from wormcat3 import PAdjustMethod\n",
    "print(list(PAdjustMethod))"
   ]
  },
  {
   "cell_type": "markdown",
   "id": "a9130757",
   "metadata": {},
   "source": [
    "-----\n",
    "#### Stress-responsive and metabolic gene regulation are altered in low S-adenosylmethionine\n",
    "\n",
    "**Compare**\n",
    "- low sam basal condition whole_genome_v2\n",
    "- low sam heat shock whole_genome_v2\n"
   ]
  },
  {
   "cell_type": "code",
   "execution_count": 7,
   "id": "1b4b23c0",
   "metadata": {},
   "outputs": [
    {
     "name": "stdout",
     "output_type": "stream",
     "text": [
      "Analysis complete. Output can be found at ../analysis/walker_lab/low_sam/low_sam_basal_conditions_Whole_Genome_79223/sams-1_down_29527\n",
      "Analysis complete. Output can be found at ../analysis/walker_lab/low_sam/low_sam_basal_conditions_Whole_Genome_79223/set-2_up_88943\n",
      "Analysis complete. Output can be found at ../analysis/walker_lab/low_sam/low_sam_basal_conditions_Whole_Genome_79223/set-16_up_53933\n",
      "Analysis complete. Output can be found at ../analysis/walker_lab/low_sam/low_sam_basal_conditions_Whole_Genome_79223/sams-1_up_65659\n",
      "Error: [701 FILE_NOT_FOUND] Error/Warning in create Bubble Chart: CSV file not found: Category \n",
      "Error: [701 FILE_NOT_FOUND] Error/Warning in create Bubble Chart: CSV file not found: Category \n",
      "Error: [701 FILE_NOT_FOUND] Error/Warning in create Bubble Chart: CSV file not found: Category \n",
      "Error/Warning unable to create_sunburst [Errno 2] No such file or directory: 'input_annotated_.csv'\n",
      "Analysis complete. Output can be found at ../analysis/walker_lab/low_sam/low_sam_basal_conditions_Whole_Genome_79223/set-2_down_44653\n",
      "Analysis complete. Output can be found at ../analysis/walker_lab/low_sam/low_sam_basal_conditions_Whole_Genome_79223/set-16_down_11503\n",
      "Analysis complete. Output can be found at ../analysis/walker_lab/low_sam/low_sam_basal_conditions_Whole_Genome_79223\n"
     ]
    }
   ],
   "source": [
    "from wormcat3 import Wormcat, WormcatError, PAdjustMethod\n",
    "from wormcat3 import constants as cs\n",
    "from pathlib import Path\n",
    "\n",
    "derived_data_path = Path(\"../derived_data/walker_lab\")\n",
    "input_data_path = derived_data_path / \"low_sam_s009/basal_conditions\"\n",
    "output_analysis_path = \"../analysis/walker_lab/low_sam\"\n",
    "\n",
    "wormcat = Wormcat(working_dir_path = output_analysis_path,\n",
    "                  title = \"low_sam basal_conditions Whole Genome\", \n",
    "                  annotation_file_name = 'whole_genome_v2_nov-11-2021.csv')\n",
    "\n",
    "wormcat.wormcat_batch(input_data_path, \n",
    "                      p_adjust_method = PAdjustMethod.BONFERRONI, \n",
    "                      p_adjust_threshold = 0.05,\n",
    "                      gene_type = cs.GENE_TYPE_WORMBASE_ID)"
   ]
  },
  {
   "cell_type": "code",
   "execution_count": 8,
   "id": "a9e99dc4",
   "metadata": {},
   "outputs": [
    {
     "name": "stdout",
     "output_type": "stream",
     "text": [
      "Analysis complete. Output can be found at ../analysis/walker_lab/low_sam/low_sams_heat_shock_Whole_Genome_50850/control_down_61015\n",
      "Analysis complete. Output can be found at ../analysis/walker_lab/low_sam/low_sams_heat_shock_Whole_Genome_50850/sams-1_down_24414\n",
      "Analysis complete. Output can be found at ../analysis/walker_lab/low_sam/low_sams_heat_shock_Whole_Genome_50850/control_up_65665\n",
      "Analysis complete. Output can be found at ../analysis/walker_lab/low_sam/low_sams_heat_shock_Whole_Genome_50850/set-2_up_44605\n",
      "Analysis complete. Output can be found at ../analysis/walker_lab/low_sam/low_sams_heat_shock_Whole_Genome_50850/set-16_up_18747\n",
      "Analysis complete. Output can be found at ../analysis/walker_lab/low_sam/low_sams_heat_shock_Whole_Genome_50850/sams-1_up_73510\n",
      "Analysis complete. Output can be found at ../analysis/walker_lab/low_sam/low_sams_heat_shock_Whole_Genome_50850/set-2_down_76008\n",
      "Analysis complete. Output can be found at ../analysis/walker_lab/low_sam/low_sams_heat_shock_Whole_Genome_50850/set-16_down_90690\n",
      "Analysis complete. Output can be found at ../analysis/walker_lab/low_sam/low_sams_heat_shock_Whole_Genome_50850\n"
     ]
    }
   ],
   "source": [
    "from wormcat3 import Wormcat, WormcatError, PAdjustMethod\n",
    "from wormcat3 import constants as cs\n",
    "\n",
    "input_data_path = derived_data_path / \"low_sam_s012/heat_shock\"\n",
    "output_analysis_path = \"../analysis/walker_lab/low_sam\"\n",
    "\n",
    "wormcat = Wormcat(working_dir_path = output_analysis_path,\n",
    "                  title = \"low_sams heat shock Whole Genome\", \n",
    "                  annotation_file_name = 'whole_genome_v2_nov-11-2021.csv')\n",
    "\n",
    "wormcat.wormcat_batch(input_data_path, \n",
    "                      p_adjust_method = PAdjustMethod.BONFERRONI, \n",
    "                      p_adjust_threshold = 0.05,\n",
    "                      gene_type = cs.GENE_TYPE_WORMBASE_ID)"
   ]
  },
  {
   "cell_type": "markdown",
   "id": "126aa6c1",
   "metadata": {},
   "source": [
    "-----\n",
    "#### S-adenosylmethionine synthases specify distinct H3K4me3 populations and gene expression patterns during heat stress\n",
    "\n",
    "**Compare**\n",
    "- cut & tag whole_genome_v2\n",
    "- cut & tag ORF_only_v2"
   ]
  },
  {
   "cell_type": "code",
   "execution_count": 17,
   "id": "d83c336f",
   "metadata": {},
   "outputs": [
    {
     "name": "stdout",
     "output_type": "stream",
     "text": [
      "Analysis complete. Output can be found at ../analysis/walker_lab/cut_and_tag/Cut_and_Tag_Whole_Genome_12112/control_37_41779\n",
      "Analysis complete. Output can be found at ../analysis/walker_lab/cut_and_tag/Cut_and_Tag_Whole_Genome_12112/sams-1_37_78901\n",
      "Analysis complete. Output can be found at ../analysis/walker_lab/cut_and_tag/Cut_and_Tag_Whole_Genome_12112/sams-4_15_29518\n",
      "Analysis complete. Output can be found at ../analysis/walker_lab/cut_and_tag/Cut_and_Tag_Whole_Genome_12112/sams-1_15_12932\n",
      "Analysis complete. Output can be found at ../analysis/walker_lab/cut_and_tag/Cut_and_Tag_Whole_Genome_12112/sams-4_37_29595\n",
      "Analysis complete. Output can be found at ../analysis/walker_lab/cut_and_tag/Cut_and_Tag_Whole_Genome_12112/control_15_49041\n",
      "Analysis complete. Output can be found at ../analysis/walker_lab/cut_and_tag/Cut_and_Tag_Whole_Genome_12112\n"
     ]
    }
   ],
   "source": [
    "from wormcat3 import Wormcat, WormcatError, PAdjustMethod\n",
    "from wormcat3 import constants as cs\n",
    "\n",
    "input_data_path = derived_data_path / \"cut_and_tag/cut_and_tag\"\n",
    "output_analysis_path = \"../analysis/walker_lab/cut_and_tag\"\n",
    "\n",
    "\n",
    "wormcat = Wormcat(working_dir_path = output_analysis_path,\n",
    "                  title = \"Cut and Tag Whole Genome\", \n",
    "                  annotation_file_name = 'whole_genome_v2_nov-11-2021.csv')\n",
    "\n",
    "wormcat.wormcat_batch(input_data_path, \n",
    "                      p_adjust_method = PAdjustMethod.BONFERRONI, \n",
    "                      p_adjust_threshold = 0.05,\n",
    "                      gene_type = cs.GENE_TYPE_WORMBASE_ID)"
   ]
  },
  {
   "cell_type": "code",
   "execution_count": 18,
   "id": "68092b79",
   "metadata": {},
   "outputs": [
    {
     "name": "stdout",
     "output_type": "stream",
     "text": [
      "Analysis complete. Output can be found at ../analysis/walker_lab/cut_and_tag/Cut_and_Tag_ORF_Only_43800/control_37_18712\n",
      "Analysis complete. Output can be found at ../analysis/walker_lab/cut_and_tag/Cut_and_Tag_ORF_Only_43800/sams-1_37_08956\n",
      "Analysis complete. Output can be found at ../analysis/walker_lab/cut_and_tag/Cut_and_Tag_ORF_Only_43800/sams-4_15_28319\n",
      "Analysis complete. Output can be found at ../analysis/walker_lab/cut_and_tag/Cut_and_Tag_ORF_Only_43800/sams-1_15_86096\n",
      "Analysis complete. Output can be found at ../analysis/walker_lab/cut_and_tag/Cut_and_Tag_ORF_Only_43800/sams-4_37_57374\n",
      "Analysis complete. Output can be found at ../analysis/walker_lab/cut_and_tag/Cut_and_Tag_ORF_Only_43800/control_15_61660\n",
      "Analysis complete. Output can be found at ../analysis/walker_lab/cut_and_tag/Cut_and_Tag_ORF_Only_43800\n"
     ]
    }
   ],
   "source": [
    "\n",
    "input_data_path = derived_data_path / \"cut_and_tag/cut_and_tag\"\n",
    "output_analysis_path = \"../analysis/walker_lab/cut_and_tag\"\n",
    "\n",
    "wormcat = Wormcat(working_dir_path = output_analysis_path,\n",
    "                  title = \"Cut and Tag ORF Only\", \n",
    "                  annotation_file_name = 'ORF_only_v2_nov-11-2021.csv')\n",
    "\n",
    "wormcat.wormcat_batch(input_data_path, \n",
    "                      p_adjust_method = PAdjustMethod.BONFERRONI, \n",
    "                      p_adjust_threshold = 0.05,\n",
    "                      gene_type = cs.GENE_TYPE_WORMBASE_ID)\n"
   ]
  },
  {
   "cell_type": "markdown",
   "id": "162bd5f5",
   "metadata": {},
   "source": [
    "-----\n",
    "#### WormCat: An Online Tool for Annotation and Visualization of Caenorhabditis elegans Genome-Scale Data \n",
    "\n",
    "**Compare**\n",
    "- Random genes whole_genome_v2\n",
    "- Random genes ORF_only_v2"
   ]
  },
  {
   "cell_type": "code",
   "execution_count": 14,
   "id": "68bb792c",
   "metadata": {},
   "outputs": [
    {
     "name": "stdout",
     "output_type": "stream",
     "text": [
      "Analysis complete. Output can be found at ../analysis/walker_lab/random/Random_Whole_Genome_36216/random_1000_46238\n",
      "Error: [801 INVALID_STATE] While creating bubble plot found DataFrame empty or None \n",
      "Analysis complete. Output can be found at ../analysis/walker_lab/random/Random_Whole_Genome_36216/random_500_63382\n",
      "Analysis complete. Output can be found at ../analysis/walker_lab/random/Random_Whole_Genome_36216/random_100_05616\n",
      "Analysis complete. Output can be found at ../analysis/walker_lab/random/Random_Whole_Genome_36216/random_1500_02134\n",
      "Analysis complete. Output can be found at ../analysis/walker_lab/random/Random_Whole_Genome_36216\n"
     ]
    }
   ],
   "source": [
    "\n",
    "from wormcat3 import Wormcat, WormcatError, PAdjustMethod\n",
    "from wormcat3 import constants as cs\n",
    "\n",
    "input_data_path = derived_data_path / \"wc1_random/random\"\n",
    "output_analysis_path = \"../analysis/walker_lab/random\"\n",
    "\n",
    "wormcat = Wormcat(working_dir_path = output_analysis_path,\n",
    "                  title = \"Random Whole Genome\", \n",
    "                  annotation_file_name = 'whole_genome_v2_nov-11-2021.csv')\n",
    "\n",
    "wormcat.wormcat_batch(input_data_path, \n",
    "                      p_adjust_method = PAdjustMethod.BONFERRONI, \n",
    "                      p_adjust_threshold = 0.05,\n",
    "                      gene_type = cs.GENE_TYPE_WORMBASE_ID)"
   ]
  },
  {
   "cell_type": "code",
   "execution_count": 16,
   "id": "9f204500",
   "metadata": {},
   "outputs": [
    {
     "name": "stdout",
     "output_type": "stream",
     "text": [
      "Error: [801 INVALID_STATE] While creating bubble plot found DataFrame empty or None \n",
      "Error: [801 INVALID_STATE] While creating bubble plot found DataFrame empty or None \n",
      "Error: [801 INVALID_STATE] While creating bubble plot found DataFrame empty or None \n",
      "Analysis complete. Output can be found at ../analysis/walker_lab/random/Random_ORF_Only_30731/random_1000_41811\n",
      "Error: [801 INVALID_STATE] While creating bubble plot found DataFrame empty or None \n",
      "Error: [801 INVALID_STATE] While creating bubble plot found DataFrame empty or None \n",
      "Error: [801 INVALID_STATE] While creating bubble plot found DataFrame empty or None \n",
      "Analysis complete. Output can be found at ../analysis/walker_lab/random/Random_ORF_Only_30731/random_500_02433\n",
      "Error: [801 INVALID_STATE] While creating bubble plot found DataFrame empty or None \n",
      "Error: [801 INVALID_STATE] While creating bubble plot found DataFrame empty or None \n",
      "Error: [801 INVALID_STATE] While creating bubble plot found DataFrame empty or None \n",
      "Analysis complete. Output can be found at ../analysis/walker_lab/random/Random_ORF_Only_30731/random_100_30203\n",
      "Error: [801 INVALID_STATE] While creating bubble plot found DataFrame empty or None \n",
      "Error: [801 INVALID_STATE] While creating bubble plot found DataFrame empty or None \n",
      "Error: [801 INVALID_STATE] While creating bubble plot found DataFrame empty or None \n",
      "Analysis complete. Output can be found at ../analysis/walker_lab/random/Random_ORF_Only_30731/random_1500_37725\n",
      "Analysis complete. Output can be found at ../analysis/walker_lab/random/Random_ORF_Only_30731\n"
     ]
    }
   ],
   "source": [
    "\n",
    "input_data_path = derived_data_path / \"wc1_random/random\"\n",
    "output_analysis_path = \"../analysis/walker_lab/random\"\n",
    "\n",
    "wormcat = Wormcat(working_dir_path = output_analysis_path,\n",
    "                  title = \"Random ORF Only\", \n",
    "                  annotation_file_name = 'ORF_only_v2_nov-11-2021.csv')\n",
    "\n",
    "wormcat.wormcat_batch(input_data_path, \n",
    "                      p_adjust_method = PAdjustMethod.BONFERRONI, \n",
    "                      p_adjust_threshold = 0.05,\n",
    "                      gene_type = cs.GENE_TYPE_WORMBASE_ID)"
   ]
  },
  {
   "cell_type": "markdown",
   "id": "91266fcf",
   "metadata": {},
   "source": [
    "-----\n",
    "#### Defining characteristics and conservation of poorly annotated genes in Caenorhabditis elegans using WormCat 2.0\n",
    "\n",
    "**Compare**\n",
    "- Peptides whole_genome_v2\n",
    "- Peptides ORF_only_v2\n"
   ]
  },
  {
   "cell_type": "code",
   "execution_count": 20,
   "id": "5eaedd7e",
   "metadata": {},
   "outputs": [
    {
     "name": "stdout",
     "output_type": "stream",
     "text": [
      "Analysis complete. Output can be found at ../analysis/walker_lab/peptides/Peptides_Whole_Genome_13762/cytoplasm_57125\n",
      "Analysis complete. Output can be found at ../analysis/walker_lab/peptides/Peptides_Whole_Genome_13762/all_detected_peptides_33957\n",
      "Analysis complete. Output can be found at ../analysis/walker_lab/peptides/Peptides_Whole_Genome_13762/aging_change_96936\n",
      "Analysis complete. Output can be found at ../analysis/walker_lab/peptides/Peptides_Whole_Genome_13762\n"
     ]
    }
   ],
   "source": [
    "input_data_path = derived_data_path / \"wc2_peptides/peptides\"\n",
    "output_analysis_path = \"../analysis/walker_lab/peptides\"\n",
    "\n",
    "wormcat = Wormcat(working_dir_path = output_analysis_path,\n",
    "                  title = \"Peptides Whole Genome\", \n",
    "                  annotation_file_name = 'whole_genome_v2_nov-11-2021.csv')\n",
    "\n",
    "wormcat.wormcat_batch(input_data_path, \n",
    "                      p_adjust_method = PAdjustMethod.BONFERRONI, \n",
    "                      p_adjust_threshold = 0.05,\n",
    "                      gene_type = cs.GENE_TYPE_WORMBASE_ID)"
   ]
  },
  {
   "cell_type": "code",
   "execution_count": 21,
   "id": "1c7ead64",
   "metadata": {},
   "outputs": [
    {
     "name": "stdout",
     "output_type": "stream",
     "text": [
      "Analysis complete. Output can be found at ../analysis/walker_lab/peptides/Peptides_ORF_Only_98597/cytoplasm_20392\n",
      "Analysis complete. Output can be found at ../analysis/walker_lab/peptides/Peptides_ORF_Only_98597/all_detected_peptides_91509\n",
      "Analysis complete. Output can be found at ../analysis/walker_lab/peptides/Peptides_ORF_Only_98597/aging_change_25005\n",
      "Analysis complete. Output can be found at ../analysis/walker_lab/peptides/Peptides_ORF_Only_98597\n"
     ]
    }
   ],
   "source": [
    "input_data_path = derived_data_path / \"wc2_peptides/peptides\"\n",
    "output_analysis_path = \"../analysis/walker_lab/peptides\"\n",
    "\n",
    "wormcat = Wormcat(working_dir_path = output_analysis_path,\n",
    "                  title = \"Peptides ORF Only\", \n",
    "                  annotation_file_name = 'ORF_only_v2_nov-11-2021.csv')\n",
    "\n",
    "wormcat.wormcat_batch(input_data_path, \n",
    "                      p_adjust_method = PAdjustMethod.BONFERRONI, \n",
    "                      p_adjust_threshold = 0.05,\n",
    "                      gene_type = cs.GENE_TYPE_WORMBASE_ID)"
   ]
  },
  {
   "cell_type": "code",
   "execution_count": null,
   "id": "a3760313",
   "metadata": {},
   "outputs": [],
   "source": []
  }
 ],
 "metadata": {
  "kernelspec": {
   "display_name": "dan-dev-py312-r433",
   "language": "python",
   "name": "python3"
  },
  "language_info": {
   "codemirror_mode": {
    "name": "ipython",
    "version": 3
   },
   "file_extension": ".py",
   "mimetype": "text/x-python",
   "name": "python",
   "nbconvert_exporter": "python",
   "pygments_lexer": "ipython3",
   "version": "3.12.2"
  }
 },
 "nbformat": 4,
 "nbformat_minor": 5
}
