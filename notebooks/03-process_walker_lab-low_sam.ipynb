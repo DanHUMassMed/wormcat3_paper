{
 "cells": [
  {
   "cell_type": "markdown",
   "id": "93118a57",
   "metadata": {},
   "source": [
    "### Conda Environment\n",
    "\n",
    "Using Kernel: `dan-dev-py312-r433`\n",
    "\n",
    "-----"
   ]
  },
  {
   "cell_type": "markdown",
   "id": "4c1d0227",
   "metadata": {},
   "source": [
    "# Walker Lab Process\n",
    "\n",
    "-----\n",
    "\n",
    "- **Process**"
   ]
  },
  {
   "cell_type": "code",
   "execution_count": 4,
   "id": "19feafec",
   "metadata": {},
   "outputs": [],
   "source": [
    "import pandas as pd\n",
    "from pathlib import Path\n",
    "\n",
    "derived_data_path = Path(\"../derived_data/walker_lab\")\n",
    "\n",
    "background_path = derived_data_path / \"low_sam_s009/all_detected/sams-1_all.csv\"\n",
    "\n",
    "derived_data_path = Path(\"../derived_data/walker_lab\")\n",
    "input_data_path = derived_data_path / \"low_sam_s009/basal_conditions\"\n",
    "output_analysis_path = \"../analysis/walker_lab/low_sam_s009\""
   ]
  },
  {
   "cell_type": "markdown",
   "id": "fb92af19",
   "metadata": {},
   "source": [
    "-----\n",
    "#### Stress-responsive and metabolic gene regulation are altered in low S-adenosylmethionine\n",
    "\n",
    "**Compare**\n",
    "- low sam basal condition whole_genome_v2\n",
    "- low sam heat shock whole_genome_v2"
   ]
  },
  {
   "cell_type": "code",
   "execution_count": 5,
   "id": "8d25c857",
   "metadata": {},
   "outputs": [
    {
     "name": "stdout",
     "output_type": "stream",
     "text": [
      "Analysis complete. Output can be found at ../analysis/walker_lab/low_sam_s009/low_sam_basal_conditions_Whole_Genome_03697/sams-1_down_68862\n",
      "Analysis complete. Output can be found at ../analysis/walker_lab/low_sam_s009/low_sam_basal_conditions_Whole_Genome_03697/sams-1_up_41594\n",
      "Analysis complete. Output can be found at ../analysis/walker_lab/low_sam_s009/low_sam_basal_conditions_Whole_Genome_03697\n"
     ]
    }
   ],
   "source": [
    "from wormcat3 import Wormcat, WormcatError, PAdjustMethod\n",
    "from wormcat3 import constants as cs\n",
    "\n",
    "\n",
    "wormcat = Wormcat(working_dir_path = output_analysis_path,\n",
    "                  title = \"low_sam basal conditions Whole Genome\", \n",
    "                  annotation_file_name = 'whole_genome_v2_nov-11-2021.csv')\n",
    "\n",
    "wormcat.wormcat_batch(input_data_path, \n",
    "                      p_adjust_method = PAdjustMethod.BONFERRONI, \n",
    "                      p_adjust_threshold = 0.05,\n",
    "                      gene_type = cs.GENE_TYPE_WORMBASE_ID)"
   ]
  },
  {
   "cell_type": "code",
   "execution_count": 6,
   "id": "76819550",
   "metadata": {},
   "outputs": [
    {
     "name": "stdout",
     "output_type": "stream",
     "text": [
      "Analysis complete. Output can be found at ../analysis/walker_lab/low_sam_s009/low_sam_basal_conditions_w_Background_43354/sams-1_down_59371\n",
      "Analysis complete. Output can be found at ../analysis/walker_lab/low_sam_s009/low_sam_basal_conditions_w_Background_43354/sams-1_up_87019\n",
      "Analysis complete. Output can be found at ../analysis/walker_lab/low_sam_s009/low_sam_basal_conditions_w_Background_43354\n"
     ]
    }
   ],
   "source": [
    "wormcat = Wormcat(working_dir_path = output_analysis_path,\n",
    "                  title = \"low_sam basal conditions w Background\", \n",
    "                  annotation_file_name = 'whole_genome_v2_nov-11-2021.csv')\n",
    "\n",
    "wormcat.wormcat_batch(input_data_path, \n",
    "                      background_path,\n",
    "                      p_adjust_method = PAdjustMethod.BONFERRONI, \n",
    "                      p_adjust_threshold = 0.05,\n",
    "                      gene_type = cs.GENE_TYPE_WORMBASE_ID)"
   ]
  },
  {
   "cell_type": "code",
   "execution_count": 7,
   "id": "0c83599d",
   "metadata": {},
   "outputs": [
    {
     "name": "stdout",
     "output_type": "stream",
     "text": [
      "Analysis complete. Output can be found at ../analysis/walker_lab/low_sam_s012/low_sams_heat_shock_Whole_Genome_88183/control_down_37299\n",
      "Analysis complete. Output can be found at ../analysis/walker_lab/low_sam_s012/low_sams_heat_shock_Whole_Genome_88183/sams-1_down_07143\n",
      "Analysis complete. Output can be found at ../analysis/walker_lab/low_sam_s012/low_sams_heat_shock_Whole_Genome_88183/control_up_26324\n",
      "Analysis complete. Output can be found at ../analysis/walker_lab/low_sam_s012/low_sams_heat_shock_Whole_Genome_88183/sams-1_up_05399\n",
      "Analysis complete. Output can be found at ../analysis/walker_lab/low_sam_s012/low_sams_heat_shock_Whole_Genome_88183\n"
     ]
    }
   ],
   "source": [
    "input_data_path = derived_data_path / \"low_sam_s012/heat_shock\"\n",
    "output_analysis_path = \"../analysis/walker_lab/low_sam_s012\"\n",
    "\n",
    "wormcat = Wormcat(working_dir_path = output_analysis_path,\n",
    "                  title = \"low_sams heat shock Whole Genome\", \n",
    "                  annotation_file_name = 'whole_genome_v2_nov-11-2021.csv')\n",
    "\n",
    "wormcat.wormcat_batch(input_data_path, \n",
    "                      p_adjust_method = PAdjustMethod.BONFERRONI, \n",
    "                      p_adjust_threshold = 0.05,\n",
    "                      gene_type = cs.GENE_TYPE_WORMBASE_ID)"
   ]
  },
  {
   "cell_type": "code",
   "execution_count": null,
   "id": "1d7b203a",
   "metadata": {},
   "outputs": [],
   "source": [
    "sams_1_all_file_path = str(derived_data_path / \"low_sam_s009/all_detected/sams-1_all.csv\")\n",
    "\n",
    "wormcat = Wormcat(title = \"sams-1 all GSEA\", \n",
    "                  working_dir_path = output_analysis_path,\n",
    "                  annotation_file_name = 'whole_genome_v2_nov-11-2021.csv')\n",
    "wormcat.perform_gsea_analysis(sams_1_all_file_path)\n"
   ]
  },
  {
   "cell_type": "code",
   "execution_count": null,
   "id": "5b587060",
   "metadata": {},
   "outputs": [],
   "source": [
    "import os\n",
    "from wormcat3 import Wormcat, WormcatError, PAdjustMethod\n",
    "\n",
    "sams_1_up_file_path = str(input_data_path / \"sams-1_up.csv\")\n",
    "background = list(sams_1_all_df['Wormbase_Id'].dropna().astype(str))\n",
    "\n",
    "wormcat = Wormcat(title = \"sams-1_up w background\", \n",
    "                  working_dir_path = output_analysis_path,\n",
    "                  annotation_file_name = 'whole_genome_v2_nov-11-2021.csv')\n",
    "wormcat.analyze_and_visualize_enrichment(sams_1_up_file_path, background)\n",
    "\n",
    "wormcat = Wormcat(title=\"sams-1_up whole genome\", \n",
    "                  working_dir_path = output_analysis_path,\n",
    "                  annotation_file_name = 'whole_genome_v2_nov-11-2021.csv')\n",
    "wormcat.analyze_and_visualize_enrichment(sams_1_up_file_path)"
   ]
  },
  {
   "cell_type": "markdown",
   "id": "78215f2a",
   "metadata": {},
   "source": [
    "# BASEMENT"
   ]
  },
  {
   "cell_type": "code",
   "execution_count": null,
   "id": "64c0639b",
   "metadata": {},
   "outputs": [],
   "source": [
    "import matplotlib.pyplot as plt\n",
    "from matplotlib_venn import venn3\n",
    "\n",
    "def plot_venn3_diagram(set1, set2, set3, label1=\"Set 1\", label2=\"Set 2\", label3=\"Set 3\", title=\"3-Set Venn Diagram\"):\n",
    "    \"\"\"\n",
    "    Plots a Venn diagram for three sets with formatted labels and summary counts.\n",
    "    \"\"\"\n",
    "    # Create informative labels with total counts\n",
    "    labels = (\n",
    "        f\"{label1}\\n({len(set1):,})\",\n",
    "        f\"{label2}\\n({len(set2):,})\",\n",
    "        f\"{label3}\\n({len(set3):,})\"\n",
    "    )\n",
    "\n",
    "    # Plot Venn diagram\n",
    "    venn = venn3([set1, set2, set3], set_labels=labels,\n",
    "                 set_colors=('skyblue', 'orange', 'lightgreen'), alpha=0.6)\n",
    "\n",
    "    # Format subset labels with commas and adjust font sizes\n",
    "    for subset_id in venn.id2idx:\n",
    "        label = venn.get_label_by_id(subset_id)\n",
    "        if label:\n",
    "            try:\n",
    "                value = int(label.get_text())\n",
    "                label.set_text(f\"{value:,}\")\n",
    "                label.set_fontsize(12)\n",
    "            except (ValueError, TypeError):\n",
    "                continue\n",
    "\n",
    "    # Set font size for set labels\n",
    "    for text in venn.set_labels:\n",
    "        if text:\n",
    "            text.set_fontsize(12)\n",
    "\n",
    "    # Print summary counts (optional, could be logged instead)\n",
    "    only_1 = len(set1 - set2 - set3)\n",
    "    only_2 = len(set2 - set1 - set3)\n",
    "    only_3 = len(set3 - set1 - set2)\n",
    "    inter_12 = len(set1 & set2 - set3)\n",
    "    inter_13 = len(set1 & set3 - set2)\n",
    "    inter_23 = len(set2 & set3 - set1)\n",
    "    inter_123 = len(set1 & set2 & set3)\n",
    "\n",
    "    print(f\"{label1} only: {only_1:,}\")\n",
    "    print(f\"{label2} only: {only_2:,}\")\n",
    "    print(f\"{label3} only: {only_3:,}\")\n",
    "    print(f\"{label1} & {label2}: {inter_12:,}\")\n",
    "    print(f\"{label1} & {label3}: {inter_13:,}\")\n",
    "    print(f\"{label2} & {label3}: {inter_23:,}\")\n",
    "    print(f\"All three: {inter_123:,}\")\n",
    "\n",
    "    # Finalize plot\n",
    "    plt.title(title, fontsize=14)\n",
    "    plt.tight_layout()\n",
    "    plt.show()\n",
    "    "
   ]
  }
 ],
 "metadata": {
  "kernelspec": {
   "display_name": "dan-dev-py312-r433",
   "language": "python",
   "name": "python3"
  },
  "language_info": {
   "codemirror_mode": {
    "name": "ipython",
    "version": 3
   },
   "file_extension": ".py",
   "mimetype": "text/x-python",
   "name": "python",
   "nbconvert_exporter": "python",
   "pygments_lexer": "ipython3",
   "version": "3.12.2"
  }
 },
 "nbformat": 4,
 "nbformat_minor": 5
}
