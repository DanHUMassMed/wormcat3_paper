{
 "cells": [
  {
   "cell_type": "markdown",
   "id": "125c68a5",
   "metadata": {},
   "source": [
    "## Environment\n",
    "Using Kernel: `dan-dev-py312-r433`\n",
    "\n",
    "-----\n"
   ]
  },
  {
   "cell_type": "markdown",
   "id": "7114555a",
   "metadata": {},
   "source": [
    "# Kenyon Lab Preprocess"
   ]
  },
  {
   "cell_type": "markdown",
   "id": "9bee53ae",
   "metadata": {},
   "source": [
    "#### Stage the data\n",
    "\n",
    "- Staging Data from **source_data** to **derived_data**\n",
    "\n",
    "**Files Derived:**\n",
    "> - kenyon.csv"
   ]
  },
  {
   "cell_type": "markdown",
   "id": "baabde02",
   "metadata": {},
   "source": [
    "-----\n",
    "- **Helper functions**"
   ]
  },
  {
   "cell_type": "code",
   "execution_count": null,
   "id": "e5302887",
   "metadata": {},
   "outputs": [],
   "source": [
    "\n",
    "# Functions used to Map Sequence IDs to Wormbase IDs\n",
    "\n",
    "from pathlib import Path\n",
    "import pandas as pd\n",
    "from pub_worm.wormbase import wormbase_util as wb\n",
    "import os\n",
    "\n",
    "def get_gene_ids_dict(working_dir_path):\n",
    "    wormbase_version = wb.current_wormbase_version()\n",
    "    \n",
    "    gene_ids_csv = Path(f\"{working_dir_path}/c_elegans.PRJNA13758.{wormbase_version}.geneIDs.csv\")\n",
    "    if not gene_ids_csv.exists():        \n",
    "        gene_ids_txt = wb.download_gene_ids(wormbase_version, working_dir_path)\n",
    "        gene_ids_csv = wb.gene_ids_to_csv(wormbase_version, working_dir_path, status_live=False)\n",
    "        if os.path.exists(gene_ids_txt):\n",
    "            os.remove(gene_ids_txt)\n",
    "            \n",
    "    gene_ids_df = pd.read_csv(gene_ids_csv).fillna('')\n",
    "            \n",
    "    gene_ids_dict = {}\n",
    "    for _, row in gene_ids_df.iterrows():\n",
    "        for key in ['Wormbase_Id', 'Gene_name', 'Sequence_id']:\n",
    "            id_val = str(row[key]).upper()\n",
    "            gene_ids_dict[id_val] = row.to_dict()\n",
    "\n",
    "    return gene_ids_dict\n",
    "\n",
    "def lookup_wormbase_id(sequence_id, gene_ids_dict):\n",
    "    sequence_id = str(sequence_id)\n",
    "    found_wormbase_id = wb._lookup_wormbase_id(sequence_id, gene_ids_dict)\n",
    "    if found_wormbase_id is not None:\n",
    "        return found_wormbase_id['Wormbase_Id']\n",
    "    return None\n"
   ]
  },
  {
   "cell_type": "markdown",
   "id": "d0627a8a",
   "metadata": {},
   "source": [
    "-----\n",
    "\n",
    "- **Preprocess**"
   ]
  },
  {
   "cell_type": "code",
   "execution_count": 14,
   "id": "9b94f7e5",
   "metadata": {},
   "outputs": [],
   "source": [
    "source_data_path = \"../source_data/kenyon_lab\"\n",
    "derived_data_path = \"../derived_data/kenyon_lab\""
   ]
  },
  {
   "cell_type": "code",
   "execution_count": 7,
   "id": "3033cca0",
   "metadata": {},
   "outputs": [],
   "source": [
    "# To map Sequence IDs to Wormbase IDs we build a gene ID dictionary for quick lookups\n",
    "import pandas as pd\n",
    "\n",
    "gene_ids_dict = get_gene_ids_dict(Path(derived_data_path).parent)"
   ]
  },
  {
   "cell_type": "code",
   "execution_count": null,
   "id": "fa829f00",
   "metadata": {},
   "outputs": [
    {
     "name": "stderr",
     "output_type": "stream",
     "text": [
      "/Users/dan/miniforge3/envs/dan-dev-py312-r433/lib/python3.12/site-packages/openpyxl/worksheet/_reader.py:329: UserWarning: Unknown extension is not supported and will be removed\n",
      "  warn(msg)\n"
     ]
    }
   ],
   "source": [
    "# Read the desired Excel (default is the first sheet) and skip the first 6 rows\n",
    "\n",
    "input_excel = pd.ExcelFile(f'{source_data_path}/mmc5.xlsx')\n",
    "df = input_excel.parse(skiprows=6)\n",
    "\n",
    "#df.head()"
   ]
  },
  {
   "cell_type": "code",
   "execution_count": 10,
   "id": "d5432c78",
   "metadata": {},
   "outputs": [],
   "source": [
    "# Map the Sequence IDs to the Wormbase_Id\n",
    "\n",
    "df.insert(\n",
    "    0,  # position as the first column\n",
    "    'Wormbase_Id',\n",
    "    df['Worm.Gene'].apply(lambda sequence_id: lookup_wormbase_id(sequence_id, gene_ids_dict))\n",
    ")"
   ]
  },
  {
   "cell_type": "code",
   "execution_count": 11,
   "id": "b0aafa24",
   "metadata": {},
   "outputs": [
    {
     "name": "stdout",
     "output_type": "stream",
     "text": [
      "Found        612 genes.\n",
      "Not Found     15 genes.\n",
      "Processed    627 genes.  97.61% matched.\n",
      "========================================\n"
     ]
    }
   ],
   "source": [
    "# Show some Summary Stats\n",
    "\n",
    "num_not_found = df['Wormbase_Id'].isna().sum()\n",
    "total = len(df)\n",
    "num_found = total - num_not_found\n",
    "percent_found = num_found / total * 100\n",
    "\n",
    "print(f\"Found     {num_found:>6,} genes.\")\n",
    "print(f\"Not Found {num_not_found:>6,} genes.\")\n",
    "print(f\"Processed {total:>6,} genes.  {percent_found:.2f}% matched.\")\n",
    "print(\"=\"*40)"
   ]
  },
  {
   "cell_type": "code",
   "execution_count": 15,
   "id": "1e79b0ed",
   "metadata": {},
   "outputs": [],
   "source": [
    "# Create the output CSV file with the Wormbase IDs\n",
    "import os\n",
    "os.makedirs(derived_data_path, exist_ok=True)\n",
    "output_file = f\"{derived_data_path}/kenyon.csv\"\n",
    "df.to_csv(output_file, index=False)   "
   ]
  },
  {
   "cell_type": "code",
   "execution_count": null,
   "id": "a6a3852c",
   "metadata": {},
   "outputs": [],
   "source": []
  }
 ],
 "metadata": {
  "kernelspec": {
   "display_name": "dan-dev-py312-r433",
   "language": "python",
   "name": "python3"
  },
  "language_info": {
   "codemirror_mode": {
    "name": "ipython",
    "version": 3
   },
   "file_extension": ".py",
   "mimetype": "text/x-python",
   "name": "python",
   "nbconvert_exporter": "python",
   "pygments_lexer": "ipython3",
   "version": "3.12.2"
  }
 },
 "nbformat": 4,
 "nbformat_minor": 5
}
