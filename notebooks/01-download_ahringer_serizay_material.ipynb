{
 "cells": [
  {
   "cell_type": "markdown",
   "id": "222ecf22",
   "metadata": {},
   "source": [
    "### Conda Environment\n",
    "\n",
    "Using Kernel: `dan-dev-py312-r433`\n",
    "\n",
    "-----"
   ]
  },
  {
   "cell_type": "markdown",
   "id": "ca63d30f",
   "metadata": {},
   "source": [
    "# Ahringer Serizay Paper"
   ]
  },
  {
   "cell_type": "markdown",
   "id": "8314c8d8",
   "metadata": {},
   "source": [
    "#### Distinctive regulatory architectures of germline-active and somatic genes in C. elegans\n",
    "\n",
    "- Authors\n",
    "    - Jacques Serizay, Yan Dong, Jürgen Jänes, Michael Chesney, Chiara Cerrato and Julie Ahringer\n",
    "\n",
    "- Paper Location\n",
    "    - https://genome.cshlp.org/content/30/12/1752\n",
    "\n",
    "- Supplemental Material\n",
    "    - https://genome.cshlp.org/content/suppl/2020/11/16/gr.265934.120.DC1/Supplemental_Table_S2.xlsx"
   ]
  },
  {
   "cell_type": "markdown",
   "id": "dbab766d",
   "metadata": {},
   "source": [
    "-----"
   ]
  },
  {
   "cell_type": "code",
   "execution_count": 1,
   "id": "51ad2875",
   "metadata": {},
   "outputs": [
    {
     "name": "stdout",
     "output_type": "stream",
     "text": [
      "--2025-06-12 16:56:48--  https://genome.cshlp.org/content/suppl/2020/11/16/gr.265934.120.DC1/Supplemental_Table_S2.xlsx\n",
      "Resolving genome.cshlp.org (genome.cshlp.org)... 104.232.26.111\n",
      "Connecting to genome.cshlp.org (genome.cshlp.org)|104.232.26.111|:443... connected.\n",
      "HTTP request sent, awaiting response... 200 OK\n",
      "Length: 14777075 (14M) [application/vnd.openxmlformats-officedocument.spreadsheetml.sheet]\n",
      "Saving to: ‘Supplemental_Table_S2.xlsx’\n",
      "\n",
      "Supplemental_Table_ 100%[===================>]  14.09M  4.26MB/s    in 3.4s    \n",
      "\n",
      "2025-06-12 16:56:52 (4.15 MB/s) - ‘Supplemental_Table_S2.xlsx’ saved [14777075/14777075]\n",
      "\n"
     ]
    }
   ],
   "source": [
    "# Distinctive regulatory architectures of germline-active and somatic genes in C. elegans\n",
    "!mkdir -p ../source_data/ahringer_serizay\n",
    "\n",
    "!cd ../source_data/ahringer_serizay && wget -nc https://genome.cshlp.org/content/suppl/2020/11/16/gr.265934.120.DC1/Supplemental_Table_S2.xlsx\n",
    "\n"
   ]
  },
  {
   "cell_type": "markdown",
   "id": "d1a4e1cd",
   "metadata": {},
   "source": [
    "-----\n",
    "\n",
    "- **Create README.md**"
   ]
  },
  {
   "cell_type": "code",
   "execution_count": 2,
   "id": "f4d2bc29",
   "metadata": {},
   "outputs": [],
   "source": [
    "readme = \"\"\"\n",
    "#### Distinctive regulatory architectures of germline-active and somatic genes in C. elegans\n",
    "\n",
    "- Authors\n",
    "    - Jacques Serizay, Yan Dong, Jürgen Jänes, Michael Chesney, Chiara Cerrato and Julie Ahringer\n",
    "\n",
    "- Paper Location\n",
    "    - https://genome.cshlp.org/content/30/12/1752\n",
    "\n",
    "- Supplemental Material\n",
    "    - https://genome.cshlp.org/content/suppl/2020/11/16/gr.265934.120.DC1/Supplemental_Table_S2.xlsx\n",
    "\"\"\"\n",
    "\n",
    "# Write it to a file\n",
    "with open(\"../source_data/ahringer_serizay/README.md\", \"w\", encoding=\"utf-8\") as f:\n",
    "    f.write(readme)"
   ]
  },
  {
   "cell_type": "code",
   "execution_count": null,
   "id": "6d45ed9c",
   "metadata": {},
   "outputs": [],
   "source": []
  }
 ],
 "metadata": {
  "kernelspec": {
   "display_name": "dan-dev-py312-r433",
   "language": "python",
   "name": "python3"
  },
  "language_info": {
   "codemirror_mode": {
    "name": "ipython",
    "version": 3
   },
   "file_extension": ".py",
   "mimetype": "text/x-python",
   "name": "python",
   "nbconvert_exporter": "python",
   "pygments_lexer": "ipython3",
   "version": "3.12.2"
  }
 },
 "nbformat": 4,
 "nbformat_minor": 5
}
