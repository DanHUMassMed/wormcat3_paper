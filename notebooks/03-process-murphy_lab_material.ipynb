{
 "cells": [
  {
   "cell_type": "markdown",
   "id": "91b7ac4e",
   "metadata": {},
   "source": [
    "## Environment\n",
    "Using Kernel: `dan-dev-py312-r433`\n",
    "\n",
    "-----"
   ]
  },
  {
   "cell_type": "code",
   "execution_count": 2,
   "id": "b650a524",
   "metadata": {},
   "outputs": [],
   "source": [
    "from pathlib import Path\n",
    "\n",
    "derived_data_path = Path(\"../derived_data/murphy_lab\")\n",
    "output_analysis_path = \"../analysis/murphy_lab\""
   ]
  },
  {
   "cell_type": "code",
   "execution_count": 3,
   "id": "9c4e2951",
   "metadata": {},
   "outputs": [
    {
     "name": "stdout",
     "output_type": "stream",
     "text": [
      "Analysis complete. Output can be found at ../analysis/murphy_lab/Murphy_TS_Whole_Genome_26553/intestine_53415\n",
      "Analysis complete. Output can be found at ../analysis/murphy_lab/Murphy_TS_Whole_Genome_26553/ubiquitous_48700\n",
      "Analysis complete. Output can be found at ../analysis/murphy_lab/Murphy_TS_Whole_Genome_26553/hypodermis_01926\n",
      "Analysis complete. Output can be found at ../analysis/murphy_lab/Murphy_TS_Whole_Genome_26553/neurons_86329\n",
      "Analysis complete. Output can be found at ../analysis/murphy_lab/Murphy_TS_Whole_Genome_26553/muscle_92744\n",
      "Analysis complete. Output can be found at ../analysis/murphy_lab/Murphy_TS_Whole_Genome_26553\n"
     ]
    }
   ],
   "source": [
    "from pathlib import Path\n",
    "from wormcat3 import Wormcat, WormcatError, PAdjustMethod\n",
    "from wormcat3 import constants as cs\n",
    "\n",
    "file_nm = \"Murphy_TS.xlsx\"\n",
    "title = \"Murphy TS Whole Genome\"\n",
    "annotation_file = \"whole_genome_v2_nov-11-2021.csv\"\n",
    "\n",
    "wormcat = Wormcat(working_dir_path = output_analysis_path,\n",
    "                title = title, \n",
    "                annotation_file_name = annotation_file)\n",
    "\n",
    "wormcat.wormcat_batch(f\"{derived_data_path}/{file_nm}\", \n",
    "                    p_adjust_method = PAdjustMethod.BONFERRONI, \n",
    "                    p_adjust_threshold = 0.05,\n",
    "                    gene_type = cs.GENE_TYPE_WORMBASE_ID)"
   ]
  },
  {
   "cell_type": "code",
   "execution_count": null,
   "id": "02c176e5",
   "metadata": {},
   "outputs": [],
   "source": []
  }
 ],
 "metadata": {
  "kernelspec": {
   "display_name": "dan-dev-py312-r433",
   "language": "python",
   "name": "python3"
  },
  "language_info": {
   "codemirror_mode": {
    "name": "ipython",
    "version": 3
   },
   "file_extension": ".py",
   "mimetype": "text/x-python",
   "name": "python",
   "nbconvert_exporter": "python",
   "pygments_lexer": "ipython3",
   "version": "3.12.2"
  }
 },
 "nbformat": 4,
 "nbformat_minor": 5
}
