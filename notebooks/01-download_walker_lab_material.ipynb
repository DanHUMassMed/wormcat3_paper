{
 "cells": [
  {
   "cell_type": "markdown",
   "id": "92e59697",
   "metadata": {},
   "source": [
    "## Environment\n",
    "Using Kernel: `dan-dev-py312-r433`\n",
    "\n",
    "-----"
   ]
  },
  {
   "cell_type": "markdown",
   "id": "f0795402",
   "metadata": {},
   "source": [
    "# Papers"
   ]
  },
  {
   "cell_type": "markdown",
   "id": "80c61fe1",
   "metadata": {},
   "source": [
    "#### WormCat: An Online Tool for Annotation and Visualization of Caenorhabditis elegans Genome-Scale Data \n",
    "\n",
    "- Paper Location\n",
    "    - https://academic.oup.com/genetics/article/214/2/279/5930455?login=false\n",
    "\n",
    "- Supplemental Material\n",
    "    - https://gsajournals.figshare.com/ndownloader/articles/10312070/versions/2"
   ]
  },
  {
   "cell_type": "markdown",
   "id": "51633a58",
   "metadata": {},
   "source": [
    "#### Defining characteristics and conservation of poorly annotated genes in Caenorhabditis elegans using WormCat 2.\n",
    "\n",
    "- Paper Location\n",
    "    - https://academic.oup.com/genetics/article/221/4/iyac085/6588682?login=false#367436239\n",
    "\n",
    "- Supplemental Material\n",
    "    - https://gsajournals.figshare.com/ndownloader/articles/19755412/versions/2"
   ]
  },
  {
   "cell_type": "markdown",
   "id": "9831713b",
   "metadata": {},
   "source": [
    "#### S-adenosylmethionine synthases specify distinct H3K4me3 populations and gene expression patterns during heat stress\n",
    "\n",
    "- Paper Location\n",
    "    - https://elifesciences.org/articles/79511\n",
    "\n",
    "- Supplemental Material\n",
    "    - https://cdn.elifesciences.org/articles/79511/elife-79511-supp1-v3.xlsx\n",
    "    - https://cdn.elifesciences.org/articles/79511/elife-79511-supp2-v3.xlsx\n",
    "    - https://cdn.elifesciences.org/articles/79511/elife-79511-supp3-v3.xlsx\n",
    "    - https://cdn.elifesciences.org/articles/79511/elife-79511-supp4-v3.xlsx"
   ]
  },
  {
   "cell_type": "code",
   "execution_count": null,
   "id": "6e5d6850",
   "metadata": {},
   "outputs": [
    {
     "name": "stdout",
     "output_type": "stream",
     "text": [
      "File ‘10312070.zip’ already there; not retrieving.\n",
      "Archive:  10312070.zip\n",
      " extracting: Supplemental_Table_1.xlsx  \n",
      " extracting: Supplemental_Table_14.xlsx  \n",
      " extracting: Supplemental_Table_7.xlsx  \n",
      " extracting: Supplemental_Table_13.xlsx  \n",
      " extracting: Supplemental_Table_9.xlsx  \n",
      " extracting: Supplemental_Table_12.xlsx  \n",
      " extracting: Supplemental_Table_11.xlsx  \n",
      " extracting: Supplemental_Table_10.xlsx  \n",
      " extracting: Supplemental_Table_8.xlsx  \n",
      " extracting: Supplemental_Table_6.xlsx  \n",
      " extracting: Supplemental_Table_5.xlsx  \n",
      " extracting: Supplemental_Table_4.xlsx  \n",
      " extracting: Supplemental_Table_3.xlsx  \n",
      " extracting: Supplemental_Table_2.xlsx  \n",
      " extracting: FigS3.pdf               \n",
      " extracting: FigS4.pdf               \n",
      " extracting: FigS5.pdf               \n",
      " extracting: FigS6.pdf               \n",
      " extracting: FigS7.pdf               \n",
      " extracting: FigS8.pdf               \n",
      " extracting: FigS9.pdf               \n",
      " extracting: FigS1.pdf               \n",
      " extracting: FigS2.pdf               \n",
      " extracting: FigS12.pdf              \n",
      " extracting: FigS11.pdf              \n",
      " extracting: FigS10.pdf              \n",
      " extracting: SUMMARY OF SUPPLEMENTARY FIGURES AND TABLES .docx  \n"
     ]
    }
   ],
   "source": [
    "# Get the data for Wormcat 1 Paper\n",
    "\n",
    "!mkdir -p ../walker_lab/wormcat_1\n",
    "!cd ../walker_lab/wormcat_1 && wget -nc -O 10312070.zip https://gsajournals.figshare.com/ndownloader/articles/10312070/versions/2\n",
    "!cd ../walker_lab/wormcat_1 && unzip -o 10312070.zip"
   ]
  },
  {
   "cell_type": "code",
   "execution_count": null,
   "id": "0a5f3ac5",
   "metadata": {},
   "outputs": [
    {
     "name": "stdout",
     "output_type": "stream",
     "text": [
      "--2025-06-06 12:39:16--  https://gsajournals.figshare.com/ndownloader/articles/19755412/versions/2\n",
      "Resolving gsajournals.figshare.com (gsajournals.figshare.com)... 52.49.153.27, 54.73.239.172, 52.215.158.36\n",
      "Connecting to gsajournals.figshare.com (gsajournals.figshare.com)|52.49.153.27|:443... connected.\n",
      "HTTP request sent, awaiting response... 200 OK\n",
      "Length: 19395427 (18M) [application/zip]\n",
      "Saving to: ‘19755412.zip’\n",
      "\n",
      "19755412.zip        100%[===================>]  18.50M  11.2MB/s    in 1.7s    \n",
      "\n",
      "2025-06-06 12:39:18 (11.2 MB/s) - ‘19755412.zip’ saved [19395427/19395427]\n",
      "\n",
      "Archive:  19755412.zip\n",
      " extracting: FigS1.pdf               \n",
      " extracting: FigS2.pdf               \n",
      " extracting: FigS3.pdf               \n",
      " extracting: FigS4.pdf               \n",
      " extracting: FigS5.pdf               \n",
      " extracting: Table S1.xlsx           \n",
      " extracting: Table S2.xlsx           \n",
      " extracting: Table S3.xlsx           \n",
      " extracting: Table S4.xlsx           \n",
      " extracting: Table S5.xlsx           \n",
      " extracting: Table S6.xlsx           \n",
      " extracting: Table S7.xlsx           \n",
      " extracting: Table S8.xlsx           \n",
      " extracting: GENETICS-2022-305194_Supplemental_Material_Legends.docx  \n"
     ]
    }
   ],
   "source": [
    "# Get the data for Wormcat 2 Paper\n",
    "\n",
    "!mkdir -p ../walker_lab/wormcat_2\n",
    "!cd ../walker_lab/wormcat_2 && wget -nc -O 19755412.zip https://gsajournals.figshare.com/ndownloader/articles/19755412/versions/2\n",
    "!cd ../walker_lab/wormcat_2 && unzip -o 19755412.zip"
   ]
  },
  {
   "cell_type": "code",
   "execution_count": null,
   "id": "2fa9a908",
   "metadata": {},
   "outputs": [
    {
     "name": "stdout",
     "output_type": "stream",
     "text": [
      "File ‘elife-79511-supp1-v3.xlsx’ already there; not retrieving.\n",
      "\n",
      "File ‘elife-79511-supp2-v3.xlsx’ already there; not retrieving.\n",
      "\n",
      "File ‘elife-79511-supp3-v3.xlsx’ already there; not retrieving.\n",
      "\n",
      "File ‘elife-79511-supp4-v3.xlsx’ already there; not retrieving.\n",
      "\n"
     ]
    }
   ],
   "source": [
    "# Get the data for Cut and Tag Paper\n",
    "\n",
    "!mkdir -p ../walker_lab/cut_and_tag\n",
    "\n",
    "!cd ../walker_lab/cut_and_tag && wget -nc https://cdn.elifesciences.org/articles/79511/elife-79511-supp1-v3.xlsx\n",
    "!cd ../walker_lab/cut_and_tag && wget -nc https://cdn.elifesciences.org/articles/79511/elife-79511-supp2-v3.xlsx\n",
    "!cd ../walker_lab/cut_and_tag && wget -nc https://cdn.elifesciences.org/articles/79511/elife-79511-supp3-v3.xlsx\n",
    "!cd ../walker_lab/cut_and_tag && wget -nc https://cdn.elifesciences.org/articles/79511/elife-79511-supp4-v3.xlsx"
   ]
  },
  {
   "cell_type": "code",
   "execution_count": null,
   "id": "d4758185",
   "metadata": {},
   "outputs": [],
   "source": []
  }
 ],
 "metadata": {
  "kernelspec": {
   "display_name": "dan-dev-py312-r433",
   "language": "python",
   "name": "python3"
  },
  "language_info": {
   "codemirror_mode": {
    "name": "ipython",
    "version": 3
   },
   "file_extension": ".py",
   "mimetype": "text/x-python",
   "name": "python",
   "nbconvert_exporter": "python",
   "pygments_lexer": "ipython3",
   "version": "3.12.2"
  }
 },
 "nbformat": 4,
 "nbformat_minor": 5
}
