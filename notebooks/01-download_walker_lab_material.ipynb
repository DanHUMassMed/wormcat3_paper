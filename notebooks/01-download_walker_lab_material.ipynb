{
 "cells": [
  {
   "cell_type": "markdown",
   "id": "92e59697",
   "metadata": {},
   "source": [
    "### Conda Environment\n",
    "\n",
    "Using Kernel: `dan-dev-py312-r433`\n",
    "\n",
    "-----"
   ]
  },
  {
   "cell_type": "markdown",
   "id": "f0795402",
   "metadata": {},
   "source": [
    "# Walker Lab Papers"
   ]
  },
  {
   "cell_type": "markdown",
   "id": "57985c05",
   "metadata": {},
   "source": [
    "#### Stress-responsive and metabolic gene regulation are altered in low S-adenosylmethionine\n",
    "\n",
    "- Authors\n",
    "    - Wei Ding, Daniel P. Higgins, Dilip K. Yadav, Adwait A. Godbole, Read Pukkila-Worley, Amy K. Walker\n",
    "\n",
    "- Paper Location\n",
    "    - https://journals.plos.org/plosgenetics/article?id=10.1371/journal.pgen.1007812\n",
    "\n",
    "- Supplemental Material\n",
    "    - https://doi.org/10.1371/journal.pgen.1007812.s009\n",
    "    - https://doi.org/10.1371/journal.pgen.1007812.s012\n"
   ]
  },
  {
   "cell_type": "markdown",
   "id": "80c61fe1",
   "metadata": {},
   "source": [
    "#### WormCat: An Online Tool for Annotation and Visualization of Caenorhabditis elegans Genome-Scale Data \n",
    "\n",
    "- Authors\n",
    "    - Amy D Holdorf, Daniel P Higgins, Anne C Hart, Peter R Boag, Gregory J Pazour, Albertha J M Walhout, Amy K Walker\n",
    "    \n",
    "- Paper Location\n",
    "    - https://academic.oup.com/genetics/article/214/2/279/5930455?login=false\n",
    "\n",
    "- Supplemental Material\n",
    "    - https://gsajournals.figshare.com/ndownloader/articles/10312070/versions/2"
   ]
  },
  {
   "cell_type": "markdown",
   "id": "51633a58",
   "metadata": {},
   "source": [
    "#### Defining characteristics and conservation of poorly annotated genes in Caenorhabditis elegans using WormCat 2.0\n",
    "\n",
    "- Authors\n",
    "    - Daniel P Higgins, Caroline M Weisman, Dominique S Lui, Frank A D’Agostino, Amy K Walker\n",
    "    \n",
    "- Paper Location\n",
    "    - https://academic.oup.com/genetics/article/221/4/iyac085/6588682?login=false#367436239\n",
    "\n",
    "- Supplemental Material\n",
    "    - https://gsajournals.figshare.com/ndownloader/articles/19755412/versions/2"
   ]
  },
  {
   "cell_type": "markdown",
   "id": "9831713b",
   "metadata": {},
   "source": [
    "#### S-adenosylmethionine synthases specify distinct H3K4me3 populations and gene expression patterns during heat stress\n",
    "\n",
    "- Authors\n",
    "    - Adwait A Godbole, Sneha Gopalan, Thien-Kim Nguyen, Alexander L Munden, Dominique S Lui, Matthew J Fanelli, Paula Vo, Caroline A Lewis, Jessica B Spinelli, Thomas G Fazzio, Amy K Walker\n",
    "    \n",
    "- Paper Location\n",
    "    - https://elifesciences.org/articles/79511\n",
    "\n",
    "- Supplemental Material\n",
    "    - https://cdn.elifesciences.org/articles/79511/elife-79511-supp1-v3.xlsx\n",
    "    - https://cdn.elifesciences.org/articles/79511/elife-79511-supp2-v3.xlsx\n",
    "    - https://cdn.elifesciences.org/articles/79511/elife-79511-supp3-v3.xlsx\n",
    "    - https://cdn.elifesciences.org/articles/79511/elife-79511-supp4-v3.xlsx"
   ]
  },
  {
   "cell_type": "markdown",
   "id": "c27b34e3",
   "metadata": {},
   "source": [
    "-----\n",
    "- **Download source materials**\n",
    "\n",
    "- Stress-responsive and metabolic gene regulation are altered in low S-adenosylmethionine"
   ]
  },
  {
   "cell_type": "code",
   "execution_count": null,
   "id": "a028bdf5",
   "metadata": {},
   "outputs": [],
   "source": [
    "# Stress-responsive and metabolic gene regulation are altered in low S-adenosylmethionine\n",
    "\n",
    "!mkdir -p ../source_data/walker_lab/low_sam\n",
    "!cd ../source_data/walker_lab/low_sam && wget -nc -O pgen.1007812.s009.xlsx  https://doi.org/10.1371/journal.pgen.1007812.s009\n",
    "!cd ../source_data/walker_lab/low_sam && wget -nc -O pgen.1007812.s012.xlsx  https://doi.org/10.1371/journal.pgen.1007812.s012"
   ]
  },
  {
   "cell_type": "markdown",
   "id": "d489ca6a",
   "metadata": {},
   "source": [
    "- WormCat: An Online Tool for Annotation and Visualization of Caenorhabditis elegans Genome-Scale Data "
   ]
  },
  {
   "cell_type": "code",
   "execution_count": null,
   "id": "6e5d6850",
   "metadata": {},
   "outputs": [],
   "source": [
    "# WormCat: An Online Tool for Annotation and Visualization of Caenorhabditis elegans Genome-Scale Data \n",
    "\n",
    "!mkdir -p ../source_data/walker_lab/wormcat_1\n",
    "!cd ../source_data/walker_lab/wormcat_1 && wget -nc -O 10312070.zip https://gsajournals.figshare.com/ndownloader/articles/10312070/versions/2\n",
    "!cd ../source_data/walker_lab/wormcat_1 && unzip -o 10312070.zip"
   ]
  },
  {
   "cell_type": "markdown",
   "id": "6bd569a6",
   "metadata": {},
   "source": [
    "- Defining characteristics and conservation of poorly annotated genes in Caenorhabditis elegans using WormCat 2.0"
   ]
  },
  {
   "cell_type": "code",
   "execution_count": null,
   "id": "0a5f3ac5",
   "metadata": {},
   "outputs": [],
   "source": [
    "# Defining characteristics and conservation of poorly annotated genes in Caenorhabditis elegans using WormCat 2.0\n",
    "\n",
    "!mkdir -p ../source_data/walker_lab/wormcat_2\n",
    "!cd ../source_data/walker_lab/wormcat_2 && wget -nc -O 19755412.zip https://gsajournals.figshare.com/ndownloader/articles/19755412/versions/2\n",
    "!cd ../source_data/walker_lab/wormcat_2 && unzip -o 19755412.zip"
   ]
  },
  {
   "cell_type": "markdown",
   "id": "9efabd4b",
   "metadata": {},
   "source": [
    "- S-adenosylmethionine synthases specify distinct H3K4me3 populations and gene expression patterns during heat stress"
   ]
  },
  {
   "cell_type": "code",
   "execution_count": null,
   "id": "2fa9a908",
   "metadata": {},
   "outputs": [],
   "source": [
    "# S-adenosylmethionine synthases specify distinct H3K4me3 populations and gene expression patterns during heat stress\n",
    "# We only need Supplemental 3 for this work\n",
    "\n",
    "!mkdir -p ../source_data/walker_lab/cut_and_tag\n",
    "!cd ../source_data/walker_lab/cut_and_tag && wget -nc https://cdn.elifesciences.org/articles/79511/elife-79511-supp3-v3.xlsx\n",
    "\n",
    "#!cd ../source_data/walker_lab/cut_and_tag && wget -nc https://cdn.elifesciences.org/articles/79511/elife-79511-supp1-v3.xlsx\n",
    "#!cd ../source_data/walker_lab/cut_and_tag && wget -nc https://cdn.elifesciences.org/articles/79511/elife-79511-supp2-v3.xlsx\n",
    "#!cd ../source_data/walker_lab/cut_and_tag && wget -nc https://cdn.elifesciences.org/articles/79511/elife-79511-supp4-v3.xlsx"
   ]
  },
  {
   "cell_type": "markdown",
   "id": "58c2ddb2",
   "metadata": {},
   "source": [
    "-----\n",
    "\n",
    "- **Create README.md**"
   ]
  },
  {
   "cell_type": "code",
   "execution_count": null,
   "id": "d4758185",
   "metadata": {},
   "outputs": [],
   "source": [
    "readme = \"\"\"\n",
    "#### Stress-responsive and metabolic gene regulation are altered in low S-adenosylmethionine\n",
    "\n",
    "- Authors\n",
    "    - Wei Ding, Daniel P. Higgins, Dilip K. Yadav, Adwait A. Godbole, Read Pukkila-Worley, Amy K. Walker\n",
    "\n",
    "- Paper Location\n",
    "    - https://journals.plos.org/plosgenetics/article?id=10.1371/journal.pgen.1007812\n",
    "\n",
    "- Supplemental Material\n",
    "    - https://doi.org/10.1371/journal.pgen.1007812.s009\n",
    "    - https://doi.org/10.1371/journal.pgen.1007812.s012\n",
    "    \n",
    "-----\n",
    "\n",
    "#### WormCat: An Online Tool for Annotation and Visualization of Caenorhabditis elegans Genome-Scale Data \n",
    "\n",
    "- Authors\n",
    "    - Amy D Holdorf, Daniel P Higgins, Anne C Hart, Peter R Boag, Gregory J Pazour, Albertha J M Walhout, Amy K Walker\n",
    "    \n",
    "- Paper Location\n",
    "    - https://academic.oup.com/genetics/article/214/2/279/5930455?login=false\n",
    "\n",
    "- Supplemental Material\n",
    "    - https://gsajournals.figshare.com/ndownloader/articles/10312070/versions/2\n",
    "    \n",
    "-----\n",
    "\n",
    "#### Defining characteristics and conservation of poorly annotated genes in Caenorhabditis elegans using WormCat 2.0\n",
    "\n",
    "- Authors\n",
    "    - Daniel P Higgins, Caroline M Weisman, Dominique S Lui, Frank A D’Agostino, Amy K Walker\n",
    "    \n",
    "- Paper Location\n",
    "    - https://academic.oup.com/genetics/article/221/4/iyac085/6588682?login=false#367436239\n",
    "\n",
    "- Supplemental Material\n",
    "    - https://gsajournals.figshare.com/ndownloader/articles/19755412/versions/2\n",
    "    \n",
    "-----\n",
    "\n",
    "#### S-adenosylmethionine synthases specify distinct H3K4me3 populations and gene expression patterns during heat stress\n",
    "\n",
    "- Authors\n",
    "    - Adwait A Godbole, Sneha Gopalan, Thien-Kim Nguyen, Alexander L Munden, Dominique S Lui, Matthew J Fanelli, Paula Vo, Caroline A Lewis, Jessica B Spinelli, Thomas G Fazzio, Amy K Walker\n",
    "    \n",
    "- Paper Location\n",
    "    - https://elifesciences.org/articles/79511\n",
    "\n",
    "- Supplemental Material\n",
    "    - https://cdn.elifesciences.org/articles/79511/elife-79511-supp1-v3.xlsx\n",
    "    - https://cdn.elifesciences.org/articles/79511/elife-79511-supp2-v3.xlsx\n",
    "    - https://cdn.elifesciences.org/articles/79511/elife-79511-supp3-v3.xlsx\n",
    "    - https://cdn.elifesciences.org/articles/79511/elife-79511-supp4-v3.xlsx\n",
    "\"\"\"\n",
    "\n",
    "with open(\"../source_data/walker_lab/README.md\", \"w\", encoding=\"utf-8\") as f:\n",
    "    f.write(readme)"
   ]
  },
  {
   "cell_type": "code",
   "execution_count": null,
   "id": "724a36c0",
   "metadata": {},
   "outputs": [],
   "source": []
  }
 ],
 "metadata": {
  "kernelspec": {
   "display_name": "dan-dev-py312-r433",
   "language": "python",
   "name": "python3"
  },
  "language_info": {
   "codemirror_mode": {
    "name": "ipython",
    "version": 3
   },
   "file_extension": ".py",
   "mimetype": "text/x-python",
   "name": "python",
   "nbconvert_exporter": "python",
   "pygments_lexer": "ipython3",
   "version": "3.12.2"
  }
 },
 "nbformat": 4,
 "nbformat_minor": 5
}
