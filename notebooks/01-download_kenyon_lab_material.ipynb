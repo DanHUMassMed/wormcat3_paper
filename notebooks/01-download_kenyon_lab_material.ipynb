{
 "cells": [
  {
   "cell_type": "markdown",
   "id": "b0de8706",
   "metadata": {},
   "source": [
    "## Environment\n",
    "Using Kernel: `dan-dev-py312-r433`\n",
    "\n",
    "-----"
   ]
  },
  {
   "cell_type": "markdown",
   "id": "60a71c0f",
   "metadata": {},
   "source": [
    "# Papers"
   ]
  },
  {
   "cell_type": "markdown",
   "id": "667ed440",
   "metadata": {},
   "source": [
    "#### Deep Proteome Analysis Identifies Age-Related Processes in C. elegans\n",
    "\n",
    "- Authors\n",
    "    - Vikram Narayan, Tony Ly, Ehsan Pourkarimi, Alejandro Brenes Murillo, Anton Gartner, Angus I Lamond, Cynthia Kenyon\n",
    "\n",
    "- Paper Location\n",
    "    - https://pubmed.ncbi.nlm.nih.gov/27453442/\n",
    "\n",
    "- Supplemental Material\n",
    "    - https://pmc.ncbi.nlm.nih.gov/articles/instance/5003814/bin/mmc5.xlsx"
   ]
  },
  {
   "cell_type": "code",
   "execution_count": 2,
   "id": "342a0a51",
   "metadata": {},
   "outputs": [],
   "source": [
    "!mkdir -p ../source_data/kenyon_lab"
   ]
  },
  {
   "cell_type": "markdown",
   "id": "11dfb412",
   "metadata": {},
   "source": [
    "This file <span style=\"color: red;\">MUST BE DOWNLOADED MANUALLY</span>\n",
    "- <a href=\"https://pmc.ncbi.nlm.nih.gov/articles/instance/5003814/bin/mmc5.xlsx\">mmc5.xlsx</a>\n",
    "\n",
    "download to `../source_data/kenyon_lab`"
   ]
  },
  {
   "cell_type": "code",
   "execution_count": 3,
   "id": "2bfbca76",
   "metadata": {},
   "outputs": [],
   "source": [
    "readme = \"\"\"\n",
    "#### Deep Proteome Analysis Identifies Age-Related Processes in C. elegans\n",
    "\n",
    "- Authors\n",
    "    - Vikram Narayan, Tony Ly, Ehsan Pourkarimi, Alejandro Brenes Murillo, Anton Gartner, Angus I Lamond, Cynthia Kenyon\n",
    "\n",
    "- Paper Location\n",
    "    - https://pubmed.ncbi.nlm.nih.gov/27453442/\n",
    "\n",
    "- Supplemental Material\n",
    "    - https://pmc.ncbi.nlm.nih.gov/articles/instance/5003814/bin/mmc5.xlsx\n",
    "\"\"\"\n",
    "# Write it to a file\n",
    "with open(\"../source_data/kenyon_lab/README.md\", \"w\", encoding=\"utf-8\") as f:\n",
    "    f.write(readme)"
   ]
  },
  {
   "cell_type": "code",
   "execution_count": null,
   "id": "a442f6d6",
   "metadata": {},
   "outputs": [],
   "source": []
  }
 ],
 "metadata": {
  "kernelspec": {
   "display_name": "dan-dev-py312-r433",
   "language": "python",
   "name": "python3"
  },
  "language_info": {
   "codemirror_mode": {
    "name": "ipython",
    "version": 3
   },
   "file_extension": ".py",
   "mimetype": "text/x-python",
   "name": "python",
   "nbconvert_exporter": "python",
   "pygments_lexer": "ipython3",
   "version": "3.12.2"
  }
 },
 "nbformat": 4,
 "nbformat_minor": 5
}
