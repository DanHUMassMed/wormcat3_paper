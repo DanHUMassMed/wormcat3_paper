{
 "cells": [
  {
   "cell_type": "markdown",
   "id": "9c3496c3",
   "metadata": {},
   "source": [
    "### Conda Environment\n",
    "\n",
    "Using Kernel: `dan-dev-py312-r433`\n",
    "\n",
    "-----"
   ]
  },
  {
   "cell_type": "code",
   "execution_count": null,
   "id": "9809e365",
   "metadata": {},
   "outputs": [],
   "source": [
    "# Location of data from and to\n",
    "from pathlib import Path\n",
    "import pandas as pd\n",
    "\n",
    "root_dir_path = Path(\"..\")\n",
    "wang_root_path = root_dir_path / \"derived_data/wang_lab/expression_data\"\n",
    "ahringer_root_path = root_dir_path / \"derived_data/ahringer_serizay\"\n",
    "analysis_root_path = root_dir_path / \"analysis/wang_ahringer_overlap\""
   ]
  },
  {
   "cell_type": "code",
   "execution_count": null,
   "id": "b759336f",
   "metadata": {},
   "outputs": [],
   "source": [
    "\n",
    "excel_file = ahringer_root_path / \"ahringer_serizay_all_tissues.xlsx\"\n",
    "\n",
    "sheets_dict = pd.read_excel(excel_file, sheet_name=None)\n",
    "ahr_intestine = sheets_dict['intestine']['WBID'].tolist()\n",
    "ahr_intestine_all = sheets_dict['intestine_all']['WBID'].tolist()\n",
    "\n",
    "ahr_muscle = sheets_dict['muscle']['WBID'].tolist()\n",
    "ahr_muscle_all = sheets_dict['muscle_all']['WBID'].tolist()\n",
    "\n",
    "ahr_hypoderm = sheets_dict['hypoderm']['WBID'].tolist()\n",
    "ahr_hypoderm_all = sheets_dict['hypoderm_all']['WBID'].tolist()\n",
    "\n",
    "print(f\"Intestine     {len(ahr_intestine):>5,}\")\n",
    "print(f\"Intestine All {len(ahr_intestine_all):>5,}\")\n",
    "print(f\"Muscle        {len(ahr_muscle):>5,}\")\n",
    "print(f\"Muscle All    {len(ahr_muscle_all):>5,}\")\n",
    "print(f\"Hypoderm      {len(ahr_hypoderm):>5,}\")\n",
    "print(f\"Hypoderm All  {len(ahr_hypoderm_all):>5,}\")"
   ]
  },
  {
   "cell_type": "code",
   "execution_count": null,
   "id": "ceba9395",
   "metadata": {},
   "outputs": [],
   "source": [
    "\n",
    "csv_file = wang_root_path / \"n2d1_gene_counts_tissue.csv\"\n",
    "\n",
    "n2d1_gene_counts_tissue_df = pd.read_csv(csv_file)\n",
    "wang_n2d1_intestine = n2d1_gene_counts_tissue_df.loc[n2d1_gene_counts_tissue_df['Intestine'] > 1, 'Wormbase_Id'].tolist()\n",
    "wang_n2d1_muscle = n2d1_gene_counts_tissue_df.loc[n2d1_gene_counts_tissue_df['Muscle'] > 1, 'Wormbase_Id'].tolist()\n",
    "wang_n2d1_hypodermis = n2d1_gene_counts_tissue_df.loc[n2d1_gene_counts_tissue_df['Hypodermis'] > 1, 'Wormbase_Id'].tolist()\n",
    "\n",
    "\n",
    "print(f\"Intestine  {len(wang_n2d1_intestine):,}\")\n",
    "print(f\"Muscle     {len(wang_n2d1_muscle):,}\")\n",
    "print(f\"Hypodermis {len(wang_n2d1_hypodermis):,}\")"
   ]
  },
  {
   "cell_type": "code",
   "execution_count": null,
   "id": "8ce50d65",
   "metadata": {},
   "outputs": [],
   "source": [
    "from matplotlib_venn import venn2\n",
    "import matplotlib.pyplot as plt\n",
    "\n",
    "def plot_venn2_diagram(set1, set2, label1=\"Set 1\", label2=\"Set 2\", title=\"Venn Diagram\"):\n",
    "    \"\"\"\n",
    "    Plots a Venn diagram for two sets with formatted labels and summary counts.\n",
    "    \"\"\"\n",
    "    # Create informative labels with total counts\n",
    "    set1_label = f\"{label1}\\n({len(set1):,})\"\n",
    "    set2_label = f\"{label2}\\n({len(set2):,})\"\n",
    "\n",
    "    # Plot Venn diagram\n",
    "    venn = venn2([set1, set2], set_labels=(set1_label, set2_label),\n",
    "                 set_colors=('skyblue', 'orange'), alpha=0.6)\n",
    "\n",
    "    # Format subset labels with commas and adjust font sizes\n",
    "    for subset_id in ('10', '01', '11'):\n",
    "        label = venn.get_label_by_id(subset_id)\n",
    "        if label:\n",
    "            value = int(label.get_text())\n",
    "            label.set_text(f\"{value:,}\")\n",
    "            label.set_fontsize(12)\n",
    "\n",
    "    # Set font size for set labels\n",
    "    for text in venn.set_labels:\n",
    "        if text:\n",
    "            text.set_fontsize(12)\n",
    "\n",
    "    # Print summary counts\n",
    "    only_set1 = len(set1 - set2)\n",
    "    only_set2 = len(set2 - set1)\n",
    "    intersection = len(set1 & set2)\n",
    "\n",
    "\n",
    "    # Add title and show plot\n",
    "    plt.title(title, fontsize=14)\n",
    "    plt.tight_layout()\n",
    "    plt.show()"
   ]
  },
  {
   "cell_type": "code",
   "execution_count": null,
   "id": "c570f859",
   "metadata": {},
   "outputs": [],
   "source": [
    "plot_venn2_diagram(\n",
    "    set1=set(wang_n2d1_intestine),\n",
    "    set2=set(ahr_intestine_all),\n",
    "    label1=\"N2D1 Intestine\",\n",
    "    label2=\"Ahr Intestine\",\n",
    "    title=\"Venn Diagram: N2D1 Intestine vs Ahr Intestine All\"\n",
    ")"
   ]
  },
  {
   "cell_type": "markdown",
   "id": "45a4857b",
   "metadata": {},
   "source": []
  },
  {
   "cell_type": "code",
   "execution_count": null,
   "id": "d42d367d",
   "metadata": {},
   "outputs": [],
   "source": [
    "plot_venn2_diagram(\n",
    "    set1=set(wang_n2d1_muscle),\n",
    "    set2=set(ahr_muscle_all),\n",
    "    label1=\"N2D1 Muscle\",\n",
    "    label2=\"Ahr Muscle\",\n",
    "    title=\"Venn Diagram: N2D1 Muscle vs Ahr Muscle All\"\n",
    ")"
   ]
  },
  {
   "cell_type": "code",
   "execution_count": null,
   "id": "486daba7",
   "metadata": {},
   "outputs": [],
   "source": [
    "plot_venn2_diagram(\n",
    "    set1=set(wang_n2d1_hypodermis),\n",
    "    set2=set(ahr_hypoderm_all),\n",
    "    label1=\"N2D1 Hypodermis\",\n",
    "    label2=\"Ahr Hypoderm\",\n",
    "    title=\"Venn Diagram: N2D1 Hypodermis vs Ahr Hypoderm All\"\n",
    ")"
   ]
  },
  {
   "cell_type": "code",
   "execution_count": null,
   "id": "1535409b",
   "metadata": {},
   "outputs": [],
   "source": []
  }
 ],
 "metadata": {
  "kernelspec": {
   "display_name": "dan-dev-py312-r433",
   "language": "python",
   "name": "python3"
  },
  "language_info": {
   "codemirror_mode": {
    "name": "ipython",
    "version": 3
   },
   "file_extension": ".py",
   "mimetype": "text/x-python",
   "name": "python",
   "nbconvert_exporter": "python",
   "pygments_lexer": "ipython3",
   "version": "3.12.2"
  }
 },
 "nbformat": 4,
 "nbformat_minor": 5
}
