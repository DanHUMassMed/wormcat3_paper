{
 "cells": [
  {
   "cell_type": "markdown",
   "id": "222ecf22",
   "metadata": {},
   "source": [
    "## Environment\n",
    "Using Kernel: `dan-dev-py312-r433`\n",
    "\n",
    "-----"
   ]
  },
  {
   "cell_type": "markdown",
   "id": "ca63d30f",
   "metadata": {},
   "source": [
    "# Papers"
   ]
  },
  {
   "cell_type": "markdown",
   "id": "8314c8d8",
   "metadata": {},
   "source": [
    "#### Distinctive regulatory architectures of germline-active and somatic genes in C. elegans\n",
    "\n",
    "- Authors\n",
    "    - Jacques Serizay, Yan Dong, Jürgen Jänes, Michael Chesney, Chiara Cerrato and Julie Ahringer\n",
    "\n",
    "- Paper Location\n",
    "    - https://genome.cshlp.org/content/30/12/1752\n",
    "\n",
    "- Supplemental Material\n",
    "    - https://genome.cshlp.org/content/suppl/2020/11/16/gr.265934.120.DC1/Supplemental_Table_S2.xlsx"
   ]
  },
  {
   "cell_type": "code",
   "execution_count": 2,
   "id": "51ad2875",
   "metadata": {},
   "outputs": [
    {
     "name": "stdout",
     "output_type": "stream",
     "text": [
      "File ‘Supplemental_Table_S2.xlsx’ already there; not retrieving.\n",
      "\n"
     ]
    }
   ],
   "source": [
    "!mkdir -p ../ahringer_lab\n",
    "\n",
    "!cd ../ahringer_lab && wget -nc https://genome.cshlp.org/content/suppl/2020/11/16/gr.265934.120.DC1/Supplemental_Table_S2.xlsx\n",
    "\n"
   ]
  },
  {
   "cell_type": "code",
   "execution_count": null,
   "id": "f4d2bc29",
   "metadata": {},
   "outputs": [],
   "source": []
  }
 ],
 "metadata": {
  "kernelspec": {
   "display_name": "dan-dev-py312-r433",
   "language": "python",
   "name": "python3"
  },
  "language_info": {
   "codemirror_mode": {
    "name": "ipython",
    "version": 3
   },
   "file_extension": ".py",
   "mimetype": "text/x-python",
   "name": "python",
   "nbconvert_exporter": "python",
   "pygments_lexer": "ipython3",
   "version": "3.12.2"
  }
 },
 "nbformat": 4,
 "nbformat_minor": 5
}
