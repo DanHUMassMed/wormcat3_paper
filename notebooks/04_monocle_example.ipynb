{
 "cells": [
  {
   "cell_type": "code",
   "execution_count": 1,
   "id": "f40430f5",
   "metadata": {},
   "outputs": [
    {
     "name": "stdout",
     "output_type": "stream",
     "text": [
      "- Project '~/Code/Python/wormcat3_paper/notebooks' loaded. [renv 1.1.4]\n"
     ]
    }
   ],
   "source": [
    "%load_ext rpy2.ipython\n",
    "\n",
    "import rpy2.robjects as ro"
   ]
  },
  {
   "cell_type": "code",
   "execution_count": 2,
   "id": "6b8c6277",
   "metadata": {},
   "outputs": [
    {
     "name": "stderr",
     "output_type": "stream",
     "text": [
      "R[write to console]: \n",
      "Attaching package: ‘renv’\n",
      "\n",
      "\n",
      "R[write to console]: The following objects are masked from ‘package:stats’:\n",
      "\n",
      "    embed, update\n",
      "\n",
      "\n",
      "R[write to console]: The following objects are masked from ‘package:utils’:\n",
      "\n",
      "    history, upgrade\n",
      "\n",
      "\n",
      "R[write to console]: The following objects are masked from ‘package:base’:\n",
      "\n",
      "    autoload, load, remove\n",
      "\n",
      "\n"
     ]
    },
    {
     "name": "stdout",
     "output_type": "stream",
     "text": [
      "- renv activated -- please restart the R session.\n",
      "No issues found -- the project is in a consistent state.\n"
     ]
    }
   ],
   "source": [
    "%%R\n",
    "library(renv)\n",
    "renv::activate()\n",
    "renv::status()"
   ]
  },
  {
   "cell_type": "code",
   "execution_count": 4,
   "id": "cc34df6e",
   "metadata": {},
   "outputs": [
    {
     "name": "stderr",
     "output_type": "stream",
     "text": [
      "R[write to console]: Loading required package: Matrix\n",
      "\n",
      "R[write to console]: Loading required package: Biobase\n",
      "\n",
      "R[write to console]: Loading required package: BiocGenerics\n",
      "\n",
      "R[write to console]: \n",
      "Attaching package: ‘BiocGenerics’\n",
      "\n",
      "\n",
      "R[write to console]: The following objects are masked from ‘package:stats’:\n",
      "\n",
      "    IQR, mad, sd, var, xtabs\n",
      "\n",
      "\n",
      "R[write to console]: The following objects are masked from ‘package:base’:\n",
      "\n",
      "    Filter, Find, Map, Position, Reduce, anyDuplicated, aperm, append,\n",
      "    as.data.frame, basename, cbind, colnames, dirname, do.call,\n",
      "    duplicated, eval, evalq, get, grep, grepl, intersect, is.unsorted,\n",
      "    lapply, mapply, match, mget, order, paste, pmax, pmax.int, pmin,\n",
      "    pmin.int, rank, rbind, rownames, sapply, setdiff, sort, table,\n",
      "    tapply, union, unique, unsplit, which.max, which.min\n",
      "\n",
      "\n",
      "R[write to console]: Welcome to Bioconductor\n",
      "\n",
      "    Vignettes contain introductory material; view with\n",
      "    'browseVignettes()'. To cite Bioconductor, see\n",
      "    'citation(\"Biobase\")', and for packages 'citation(\"pkgname\")'.\n",
      "\n",
      "\n",
      "R[write to console]: Loading required package: ggplot2\n",
      "\n",
      "R[write to console]: Loading required package: VGAM\n",
      "\n",
      "R[write to console]: Loading required package: stats4\n",
      "\n",
      "R[write to console]: Loading required package: splines\n",
      "\n",
      "R[write to console]: Loading required package: DDRTree\n",
      "\n",
      "R[write to console]: Loading required package: irlba\n",
      "\n"
     ]
    }
   ],
   "source": [
    "%%R\n",
    "library(monocle)\n"
   ]
  },
  {
   "cell_type": "code",
   "execution_count": 13,
   "id": "5907c3c4",
   "metadata": {},
   "outputs": [
    {
     "name": "stdout",
     "output_type": "stream",
     "text": [
      "[1] \"HSMM\"\n"
     ]
    }
   ],
   "source": [
    "%%R\n",
    "\n",
    "print(data(HSMM))\n",
    "\n"
   ]
  },
  {
   "cell_type": "code",
   "execution_count": 11,
   "id": "8028b16b",
   "metadata": {},
   "outputs": [
    {
     "name": "stderr",
     "output_type": "stream",
     "text": [
      "R[write to console]: Error in h(simpleError(msg, call)) : \n",
      "  error in evaluating the argument 'x' in selecting a method for function 'head': error in evaluating the argument 'x' in selecting a method for function 'rownames': object 'HSMM' not found\n",
      "\n"
     ]
    },
    {
     "name": "stdout",
     "output_type": "stream",
     "text": [
      "\n",
      "Error in h(simpleError(msg, call)) : \n",
      "  error in evaluating the argument 'x' in selecting a method for function 'head': error in evaluating the argument 'x' in selecting a method for function 'rownames': object 'HSMM' not found\n"
     ]
    },
    {
     "ename": "RInterpreterError",
     "evalue": "Failed to parse and evaluate line 'head(rownames(HSMM))  # gene IDs\\nhead(colnames(HSMM))\\n'.\nR error message: \"Error in h(simpleError(msg, call)) : \\n  error in evaluating the argument 'x' in selecting a method for function 'head': error in evaluating the argument 'x' in selecting a method for function 'rownames': object 'HSMM' not found\"",
     "output_type": "error",
     "traceback": [
      "\u001b[31m---------------------------------------------------------------------------\u001b[39m",
      "\u001b[31mRRuntimeError\u001b[39m                             Traceback (most recent call last)",
      "\u001b[36mFile \u001b[39m\u001b[32m~/miniforge3/envs/dan-dev-py312-r433/lib/python3.12/site-packages/rpy2/ipython/rmagic.py:385\u001b[39m, in \u001b[36mRMagics.eval\u001b[39m\u001b[34m(self, code)\u001b[39m\n\u001b[32m    383\u001b[39m \u001b[38;5;28;01mtry\u001b[39;00m:\n\u001b[32m    384\u001b[39m     \u001b[38;5;66;03m# Need the newline in case the last line in code is a comment.\u001b[39;00m\n\u001b[32m--> \u001b[39m\u001b[32m385\u001b[39m     value, visible = \u001b[43mro\u001b[49m\u001b[43m.\u001b[49m\u001b[43mr\u001b[49m\u001b[43m(\u001b[49m\u001b[33;43m\"\u001b[39;49m\u001b[33;43mwithVisible(\u001b[39;49m\u001b[33;43m{\u001b[39;49m\u001b[38;5;132;43;01m%s\u001b[39;49;00m\u001b[38;5;130;43;01m\\n\u001b[39;49;00m\u001b[33;43m})\u001b[39;49m\u001b[33;43m\"\u001b[39;49m\u001b[43m \u001b[49m\u001b[43m%\u001b[49m\u001b[43m \u001b[49m\u001b[43mcode\u001b[49m\u001b[43m)\u001b[49m\n\u001b[32m    386\u001b[39m \u001b[38;5;28;01mexcept\u001b[39;00m (ri.embedded.RRuntimeError, \u001b[38;5;167;01mValueError\u001b[39;00m) \u001b[38;5;28;01mas\u001b[39;00m exception:\n\u001b[32m    387\u001b[39m     \u001b[38;5;66;03m# Otherwise next return seems to have copy of error.\u001b[39;00m\n",
      "\u001b[36mFile \u001b[39m\u001b[32m~/miniforge3/envs/dan-dev-py312-r433/lib/python3.12/site-packages/rpy2/robjects/__init__.py:459\u001b[39m, in \u001b[36mR.__call__\u001b[39m\u001b[34m(self, string)\u001b[39m\n\u001b[32m    458\u001b[39m p = rinterface.parse(string)\n\u001b[32m--> \u001b[39m\u001b[32m459\u001b[39m res = \u001b[38;5;28;43mself\u001b[39;49m\u001b[43m.\u001b[49m\u001b[43meval\u001b[49m\u001b[43m(\u001b[49m\u001b[43mp\u001b[49m\u001b[43m)\u001b[49m\n\u001b[32m    460\u001b[39m \u001b[38;5;28;01mreturn\u001b[39;00m conversion.get_conversion().rpy2py(res)\n",
      "\u001b[36mFile \u001b[39m\u001b[32m~/miniforge3/envs/dan-dev-py312-r433/lib/python3.12/site-packages/rpy2/robjects/functions.py:208\u001b[39m, in \u001b[36mSignatureTranslatedFunction.__call__\u001b[39m\u001b[34m(self, *args, **kwargs)\u001b[39m\n\u001b[32m    207\u001b[39m         kwargs[r_k] = v\n\u001b[32m--> \u001b[39m\u001b[32m208\u001b[39m \u001b[38;5;28;01mreturn\u001b[39;00m (\u001b[38;5;28;43msuper\u001b[39;49m\u001b[43m(\u001b[49m\u001b[43mSignatureTranslatedFunction\u001b[49m\u001b[43m,\u001b[49m\u001b[43m \u001b[49m\u001b[38;5;28;43mself\u001b[39;49m\u001b[43m)\u001b[49m\n\u001b[32m    209\u001b[39m \u001b[43m        \u001b[49m\u001b[43m.\u001b[49m\u001b[34;43m__call__\u001b[39;49m\u001b[43m(\u001b[49m\u001b[43m*\u001b[49m\u001b[43margs\u001b[49m\u001b[43m,\u001b[49m\u001b[43m \u001b[49m\u001b[43m*\u001b[49m\u001b[43m*\u001b[49m\u001b[43mkwargs\u001b[49m\u001b[43m)\u001b[49m)\n",
      "\u001b[36mFile \u001b[39m\u001b[32m~/miniforge3/envs/dan-dev-py312-r433/lib/python3.12/site-packages/rpy2/robjects/functions.py:131\u001b[39m, in \u001b[36mFunction.__call__\u001b[39m\u001b[34m(self, *args, **kwargs)\u001b[39m\n\u001b[32m    130\u001b[39m         new_kwargs[k] = cv.py2rpy(v)\n\u001b[32m--> \u001b[39m\u001b[32m131\u001b[39m res = \u001b[38;5;28;43msuper\u001b[39;49m\u001b[43m(\u001b[49m\u001b[43mFunction\u001b[49m\u001b[43m,\u001b[49m\u001b[43m \u001b[49m\u001b[38;5;28;43mself\u001b[39;49m\u001b[43m)\u001b[49m\u001b[43m.\u001b[49m\u001b[34;43m__call__\u001b[39;49m\u001b[43m(\u001b[49m\u001b[43m*\u001b[49m\u001b[43mnew_args\u001b[49m\u001b[43m,\u001b[49m\u001b[43m \u001b[49m\u001b[43m*\u001b[49m\u001b[43m*\u001b[49m\u001b[43mnew_kwargs\u001b[49m\u001b[43m)\u001b[49m\n\u001b[32m    132\u001b[39m res = cv.rpy2py(res)\n",
      "\u001b[36mFile \u001b[39m\u001b[32m~/miniforge3/envs/dan-dev-py312-r433/lib/python3.12/site-packages/rpy2/rinterface_lib/conversion.py:45\u001b[39m, in \u001b[36m_cdata_res_to_rinterface.<locals>._\u001b[39m\u001b[34m(*args, **kwargs)\u001b[39m\n\u001b[32m     44\u001b[39m \u001b[38;5;28;01mdef\u001b[39;00m\u001b[38;5;250m \u001b[39m\u001b[34m_\u001b[39m(*args, **kwargs):\n\u001b[32m---> \u001b[39m\u001b[32m45\u001b[39m     cdata = \u001b[43mfunction\u001b[49m\u001b[43m(\u001b[49m\u001b[43m*\u001b[49m\u001b[43margs\u001b[49m\u001b[43m,\u001b[49m\u001b[43m \u001b[49m\u001b[43m*\u001b[49m\u001b[43m*\u001b[49m\u001b[43mkwargs\u001b[49m\u001b[43m)\u001b[49m\n\u001b[32m     46\u001b[39m     \u001b[38;5;66;03m# TODO: test cdata is of the expected CType\u001b[39;00m\n",
      "\u001b[36mFile \u001b[39m\u001b[32m~/miniforge3/envs/dan-dev-py312-r433/lib/python3.12/site-packages/rpy2/rinterface.py:817\u001b[39m, in \u001b[36mSexpClosure.__call__\u001b[39m\u001b[34m(self, *args, **kwargs)\u001b[39m\n\u001b[32m    816\u001b[39m     \u001b[38;5;28;01mif\u001b[39;00m error_occured[\u001b[32m0\u001b[39m]:\n\u001b[32m--> \u001b[39m\u001b[32m817\u001b[39m         \u001b[38;5;28;01mraise\u001b[39;00m embedded.RRuntimeError(_rinterface._geterrmessage())\n\u001b[32m    818\u001b[39m \u001b[38;5;28;01mreturn\u001b[39;00m res\n",
      "\u001b[31mRRuntimeError\u001b[39m: Error in h(simpleError(msg, call)) : \n  error in evaluating the argument 'x' in selecting a method for function 'head': error in evaluating the argument 'x' in selecting a method for function 'rownames': object 'HSMM' not found\n",
      "\nDuring handling of the above exception, another exception occurred:\n",
      "\u001b[31mRInterpreterError\u001b[39m                         Traceback (most recent call last)",
      "\u001b[36mCell\u001b[39m\u001b[36m \u001b[39m\u001b[32mIn[11]\u001b[39m\u001b[32m, line 1\u001b[39m\n\u001b[32m----> \u001b[39m\u001b[32m1\u001b[39m \u001b[43mget_ipython\u001b[49m\u001b[43m(\u001b[49m\u001b[43m)\u001b[49m\u001b[43m.\u001b[49m\u001b[43mrun_cell_magic\u001b[49m\u001b[43m(\u001b[49m\u001b[33;43m'\u001b[39;49m\u001b[33;43mR\u001b[39;49m\u001b[33;43m'\u001b[39;49m\u001b[43m,\u001b[49m\u001b[43m \u001b[49m\u001b[33;43m'\u001b[39;49m\u001b[33;43m'\u001b[39;49m\u001b[43m,\u001b[49m\u001b[43m \u001b[49m\u001b[33;43m'\u001b[39;49m\u001b[33;43mhead(rownames(HSMM))  # gene IDs\u001b[39;49m\u001b[38;5;130;43;01m\\n\u001b[39;49;00m\u001b[33;43mhead(colnames(HSMM))\u001b[39;49m\u001b[38;5;130;43;01m\\n\u001b[39;49;00m\u001b[33;43m'\u001b[39;49m\u001b[43m)\u001b[49m\n",
      "\u001b[36mFile \u001b[39m\u001b[32m~/miniforge3/envs/dan-dev-py312-r433/lib/python3.12/site-packages/IPython/core/interactiveshell.py:2547\u001b[39m, in \u001b[36mInteractiveShell.run_cell_magic\u001b[39m\u001b[34m(self, magic_name, line, cell)\u001b[39m\n\u001b[32m   2545\u001b[39m \u001b[38;5;28;01mwith\u001b[39;00m \u001b[38;5;28mself\u001b[39m.builtin_trap:\n\u001b[32m   2546\u001b[39m     args = (magic_arg_s, cell)\n\u001b[32m-> \u001b[39m\u001b[32m2547\u001b[39m     result = \u001b[43mfn\u001b[49m\u001b[43m(\u001b[49m\u001b[43m*\u001b[49m\u001b[43margs\u001b[49m\u001b[43m,\u001b[49m\u001b[43m \u001b[49m\u001b[43m*\u001b[49m\u001b[43m*\u001b[49m\u001b[43mkwargs\u001b[49m\u001b[43m)\u001b[49m\n\u001b[32m   2549\u001b[39m \u001b[38;5;66;03m# The code below prevents the output from being displayed\u001b[39;00m\n\u001b[32m   2550\u001b[39m \u001b[38;5;66;03m# when using magics with decorator @output_can_be_silenced\u001b[39;00m\n\u001b[32m   2551\u001b[39m \u001b[38;5;66;03m# when the last Python token in the expression is a ';'.\u001b[39;00m\n\u001b[32m   2552\u001b[39m \u001b[38;5;28;01mif\u001b[39;00m \u001b[38;5;28mgetattr\u001b[39m(fn, magic.MAGIC_OUTPUT_CAN_BE_SILENCED, \u001b[38;5;28;01mFalse\u001b[39;00m):\n",
      "\u001b[36mFile \u001b[39m\u001b[32m~/miniforge3/envs/dan-dev-py312-r433/lib/python3.12/site-packages/rpy2/ipython/rmagic.py:943\u001b[39m, in \u001b[36mRMagics.R\u001b[39m\u001b[34m(self, line, cell, local_ns)\u001b[39m\n\u001b[32m    941\u001b[39m     \u001b[38;5;28;01mif\u001b[39;00m \u001b[38;5;129;01mnot\u001b[39;00m e.stdout.endswith(e.err):\n\u001b[32m    942\u001b[39m         \u001b[38;5;28mprint\u001b[39m(e.err)\n\u001b[32m--> \u001b[39m\u001b[32m943\u001b[39m     \u001b[38;5;28;01mraise\u001b[39;00m e\n\u001b[32m    944\u001b[39m \u001b[38;5;28;01mfinally\u001b[39;00m:\n\u001b[32m    945\u001b[39m     \u001b[38;5;28;01mif\u001b[39;00m \u001b[38;5;28mself\u001b[39m.device \u001b[38;5;129;01min\u001b[39;00m DEVICES_STATIC:\n",
      "\u001b[36mFile \u001b[39m\u001b[32m~/miniforge3/envs/dan-dev-py312-r433/lib/python3.12/site-packages/rpy2/ipython/rmagic.py:923\u001b[39m, in \u001b[36mRMagics.R\u001b[39m\u001b[34m(self, line, cell, local_ns)\u001b[39m\n\u001b[32m    921\u001b[39m         return_output = \u001b[38;5;28;01mFalse\u001b[39;00m\n\u001b[32m    922\u001b[39m \u001b[38;5;28;01melse\u001b[39;00m:\n\u001b[32m--> \u001b[39m\u001b[32m923\u001b[39m     text_result, result, visible = \u001b[38;5;28;43mself\u001b[39;49m\u001b[43m.\u001b[49m\u001b[43meval\u001b[49m\u001b[43m(\u001b[49m\u001b[43mcode\u001b[49m\u001b[43m)\u001b[49m\n\u001b[32m    924\u001b[39m     text_output += text_result\n\u001b[32m    925\u001b[39m     \u001b[38;5;28;01mif\u001b[39;00m visible:\n",
      "\u001b[36mFile \u001b[39m\u001b[32m~/miniforge3/envs/dan-dev-py312-r433/lib/python3.12/site-packages/rpy2/ipython/rmagic.py:389\u001b[39m, in \u001b[36mRMagics.eval\u001b[39m\u001b[34m(self, code)\u001b[39m\n\u001b[32m    386\u001b[39m \u001b[38;5;28;01mexcept\u001b[39;00m (ri.embedded.RRuntimeError, \u001b[38;5;167;01mValueError\u001b[39;00m) \u001b[38;5;28;01mas\u001b[39;00m exception:\n\u001b[32m    387\u001b[39m     \u001b[38;5;66;03m# Otherwise next return seems to have copy of error.\u001b[39;00m\n\u001b[32m    388\u001b[39m     warning_or_other_msg = \u001b[38;5;28mself\u001b[39m.flush()\n\u001b[32m--> \u001b[39m\u001b[32m389\u001b[39m     \u001b[38;5;28;01mraise\u001b[39;00m RInterpreterError(code, \u001b[38;5;28mstr\u001b[39m(exception),\n\u001b[32m    390\u001b[39m                             warning_or_other_msg)\n\u001b[32m    391\u001b[39m text_output = \u001b[38;5;28mself\u001b[39m.flush()\n\u001b[32m    392\u001b[39m \u001b[38;5;28;01mreturn\u001b[39;00m text_output, value, visible[\u001b[32m0\u001b[39m]\n",
      "\u001b[31mRInterpreterError\u001b[39m: Failed to parse and evaluate line 'head(rownames(HSMM))  # gene IDs\\nhead(colnames(HSMM))\\n'.\nR error message: \"Error in h(simpleError(msg, call)) : \\n  error in evaluating the argument 'x' in selecting a method for function 'head': error in evaluating the argument 'x' in selecting a method for function 'rownames': object 'HSMM' not found\""
     ]
    }
   ],
   "source": [
    "%%R\n",
    "head(rownames(HSMM))  # gene IDs\n",
    "head(colnames(HSMM))"
   ]
  },
  {
   "cell_type": "code",
   "execution_count": 10,
   "id": "9a4db4d1",
   "metadata": {},
   "outputs": [
    {
     "name": "stderr",
     "output_type": "stream",
     "text": [
      "R[write to console]: Error in h(simpleError(msg, call)) : \n",
      "  error in evaluating the argument 'x' in selecting a method for function 'rowSums': error in evaluating the argument 'object' in selecting a method for function 'exprs': object 'HSMM' not found\n",
      "\n",
      "R[write to console]: In addition: \n",
      "R[write to console]: Warning message:\n",
      "\n",
      "R[write to console]: In data(HSMM) :\n",
      "R[write to console]:  data set ‘HSMM’ not found\n",
      "\n"
     ]
    },
    {
     "name": "stdout",
     "output_type": "stream",
     "text": [
      "\n",
      "Error in h(simpleError(msg, call)) : \n",
      "  error in evaluating the argument 'x' in selecting a method for function 'rowSums': error in evaluating the argument 'object' in selecting a method for function 'exprs': object 'HSMM' not found\n"
     ]
    },
    {
     "ename": "RInterpreterError",
     "evalue": "Failed to parse and evaluate line 'HSMM <- detectGenes(HSMM, min_expr = 0.1)\\n'.\nR error message: \"Error in h(simpleError(msg, call)) : \\n  error in evaluating the argument 'x' in selecting a method for function 'rowSums': error in evaluating the argument 'object' in selecting a method for function 'exprs': object 'HSMM' not found\"",
     "output_type": "error",
     "traceback": [
      "\u001b[31m---------------------------------------------------------------------------\u001b[39m",
      "\u001b[31mRRuntimeError\u001b[39m                             Traceback (most recent call last)",
      "\u001b[36mFile \u001b[39m\u001b[32m~/miniforge3/envs/dan-dev-py312-r433/lib/python3.12/site-packages/rpy2/ipython/rmagic.py:385\u001b[39m, in \u001b[36mRMagics.eval\u001b[39m\u001b[34m(self, code)\u001b[39m\n\u001b[32m    383\u001b[39m \u001b[38;5;28;01mtry\u001b[39;00m:\n\u001b[32m    384\u001b[39m     \u001b[38;5;66;03m# Need the newline in case the last line in code is a comment.\u001b[39;00m\n\u001b[32m--> \u001b[39m\u001b[32m385\u001b[39m     value, visible = \u001b[43mro\u001b[49m\u001b[43m.\u001b[49m\u001b[43mr\u001b[49m\u001b[43m(\u001b[49m\u001b[33;43m\"\u001b[39;49m\u001b[33;43mwithVisible(\u001b[39;49m\u001b[33;43m{\u001b[39;49m\u001b[38;5;132;43;01m%s\u001b[39;49;00m\u001b[38;5;130;43;01m\\n\u001b[39;49;00m\u001b[33;43m})\u001b[39;49m\u001b[33;43m\"\u001b[39;49m\u001b[43m \u001b[49m\u001b[43m%\u001b[49m\u001b[43m \u001b[49m\u001b[43mcode\u001b[49m\u001b[43m)\u001b[49m\n\u001b[32m    386\u001b[39m \u001b[38;5;28;01mexcept\u001b[39;00m (ri.embedded.RRuntimeError, \u001b[38;5;167;01mValueError\u001b[39;00m) \u001b[38;5;28;01mas\u001b[39;00m exception:\n\u001b[32m    387\u001b[39m     \u001b[38;5;66;03m# Otherwise next return seems to have copy of error.\u001b[39;00m\n",
      "\u001b[36mFile \u001b[39m\u001b[32m~/miniforge3/envs/dan-dev-py312-r433/lib/python3.12/site-packages/rpy2/robjects/__init__.py:459\u001b[39m, in \u001b[36mR.__call__\u001b[39m\u001b[34m(self, string)\u001b[39m\n\u001b[32m    458\u001b[39m p = rinterface.parse(string)\n\u001b[32m--> \u001b[39m\u001b[32m459\u001b[39m res = \u001b[38;5;28;43mself\u001b[39;49m\u001b[43m.\u001b[49m\u001b[43meval\u001b[49m\u001b[43m(\u001b[49m\u001b[43mp\u001b[49m\u001b[43m)\u001b[49m\n\u001b[32m    460\u001b[39m \u001b[38;5;28;01mreturn\u001b[39;00m conversion.get_conversion().rpy2py(res)\n",
      "\u001b[36mFile \u001b[39m\u001b[32m~/miniforge3/envs/dan-dev-py312-r433/lib/python3.12/site-packages/rpy2/robjects/functions.py:208\u001b[39m, in \u001b[36mSignatureTranslatedFunction.__call__\u001b[39m\u001b[34m(self, *args, **kwargs)\u001b[39m\n\u001b[32m    207\u001b[39m         kwargs[r_k] = v\n\u001b[32m--> \u001b[39m\u001b[32m208\u001b[39m \u001b[38;5;28;01mreturn\u001b[39;00m (\u001b[38;5;28;43msuper\u001b[39;49m\u001b[43m(\u001b[49m\u001b[43mSignatureTranslatedFunction\u001b[49m\u001b[43m,\u001b[49m\u001b[43m \u001b[49m\u001b[38;5;28;43mself\u001b[39;49m\u001b[43m)\u001b[49m\n\u001b[32m    209\u001b[39m \u001b[43m        \u001b[49m\u001b[43m.\u001b[49m\u001b[34;43m__call__\u001b[39;49m\u001b[43m(\u001b[49m\u001b[43m*\u001b[49m\u001b[43margs\u001b[49m\u001b[43m,\u001b[49m\u001b[43m \u001b[49m\u001b[43m*\u001b[49m\u001b[43m*\u001b[49m\u001b[43mkwargs\u001b[49m\u001b[43m)\u001b[49m)\n",
      "\u001b[36mFile \u001b[39m\u001b[32m~/miniforge3/envs/dan-dev-py312-r433/lib/python3.12/site-packages/rpy2/robjects/functions.py:131\u001b[39m, in \u001b[36mFunction.__call__\u001b[39m\u001b[34m(self, *args, **kwargs)\u001b[39m\n\u001b[32m    130\u001b[39m         new_kwargs[k] = cv.py2rpy(v)\n\u001b[32m--> \u001b[39m\u001b[32m131\u001b[39m res = \u001b[38;5;28;43msuper\u001b[39;49m\u001b[43m(\u001b[49m\u001b[43mFunction\u001b[49m\u001b[43m,\u001b[49m\u001b[43m \u001b[49m\u001b[38;5;28;43mself\u001b[39;49m\u001b[43m)\u001b[49m\u001b[43m.\u001b[49m\u001b[34;43m__call__\u001b[39;49m\u001b[43m(\u001b[49m\u001b[43m*\u001b[49m\u001b[43mnew_args\u001b[49m\u001b[43m,\u001b[49m\u001b[43m \u001b[49m\u001b[43m*\u001b[49m\u001b[43m*\u001b[49m\u001b[43mnew_kwargs\u001b[49m\u001b[43m)\u001b[49m\n\u001b[32m    132\u001b[39m res = cv.rpy2py(res)\n",
      "\u001b[36mFile \u001b[39m\u001b[32m~/miniforge3/envs/dan-dev-py312-r433/lib/python3.12/site-packages/rpy2/rinterface_lib/conversion.py:45\u001b[39m, in \u001b[36m_cdata_res_to_rinterface.<locals>._\u001b[39m\u001b[34m(*args, **kwargs)\u001b[39m\n\u001b[32m     44\u001b[39m \u001b[38;5;28;01mdef\u001b[39;00m\u001b[38;5;250m \u001b[39m\u001b[34m_\u001b[39m(*args, **kwargs):\n\u001b[32m---> \u001b[39m\u001b[32m45\u001b[39m     cdata = \u001b[43mfunction\u001b[49m\u001b[43m(\u001b[49m\u001b[43m*\u001b[49m\u001b[43margs\u001b[49m\u001b[43m,\u001b[49m\u001b[43m \u001b[49m\u001b[43m*\u001b[49m\u001b[43m*\u001b[49m\u001b[43mkwargs\u001b[49m\u001b[43m)\u001b[49m\n\u001b[32m     46\u001b[39m     \u001b[38;5;66;03m# TODO: test cdata is of the expected CType\u001b[39;00m\n",
      "\u001b[36mFile \u001b[39m\u001b[32m~/miniforge3/envs/dan-dev-py312-r433/lib/python3.12/site-packages/rpy2/rinterface.py:817\u001b[39m, in \u001b[36mSexpClosure.__call__\u001b[39m\u001b[34m(self, *args, **kwargs)\u001b[39m\n\u001b[32m    816\u001b[39m     \u001b[38;5;28;01mif\u001b[39;00m error_occured[\u001b[32m0\u001b[39m]:\n\u001b[32m--> \u001b[39m\u001b[32m817\u001b[39m         \u001b[38;5;28;01mraise\u001b[39;00m embedded.RRuntimeError(_rinterface._geterrmessage())\n\u001b[32m    818\u001b[39m \u001b[38;5;28;01mreturn\u001b[39;00m res\n",
      "\u001b[31mRRuntimeError\u001b[39m: Error in h(simpleError(msg, call)) : \n  error in evaluating the argument 'x' in selecting a method for function 'rowSums': error in evaluating the argument 'object' in selecting a method for function 'exprs': object 'HSMM' not found\n",
      "\nDuring handling of the above exception, another exception occurred:\n",
      "\u001b[31mRInterpreterError\u001b[39m                         Traceback (most recent call last)",
      "\u001b[36mCell\u001b[39m\u001b[36m \u001b[39m\u001b[32mIn[10]\u001b[39m\u001b[32m, line 1\u001b[39m\n\u001b[32m----> \u001b[39m\u001b[32m1\u001b[39m \u001b[43mget_ipython\u001b[49m\u001b[43m(\u001b[49m\u001b[43m)\u001b[49m\u001b[43m.\u001b[49m\u001b[43mrun_cell_magic\u001b[49m\u001b[43m(\u001b[49m\u001b[33;43m'\u001b[39;49m\u001b[33;43mR\u001b[39;49m\u001b[33;43m'\u001b[39;49m\u001b[43m,\u001b[49m\u001b[43m \u001b[49m\u001b[33;43m'\u001b[39;49m\u001b[33;43m'\u001b[39;49m\u001b[43m,\u001b[49m\u001b[43m \u001b[49m\u001b[33;43m'\u001b[39;49m\u001b[33;43mHSMM <- detectGenes(HSMM, min_expr = 0.1)\u001b[39;49m\u001b[38;5;130;43;01m\\n\u001b[39;49;00m\u001b[33;43m'\u001b[39;49m\u001b[43m)\u001b[49m\n",
      "\u001b[36mFile \u001b[39m\u001b[32m~/miniforge3/envs/dan-dev-py312-r433/lib/python3.12/site-packages/IPython/core/interactiveshell.py:2547\u001b[39m, in \u001b[36mInteractiveShell.run_cell_magic\u001b[39m\u001b[34m(self, magic_name, line, cell)\u001b[39m\n\u001b[32m   2545\u001b[39m \u001b[38;5;28;01mwith\u001b[39;00m \u001b[38;5;28mself\u001b[39m.builtin_trap:\n\u001b[32m   2546\u001b[39m     args = (magic_arg_s, cell)\n\u001b[32m-> \u001b[39m\u001b[32m2547\u001b[39m     result = \u001b[43mfn\u001b[49m\u001b[43m(\u001b[49m\u001b[43m*\u001b[49m\u001b[43margs\u001b[49m\u001b[43m,\u001b[49m\u001b[43m \u001b[49m\u001b[43m*\u001b[49m\u001b[43m*\u001b[49m\u001b[43mkwargs\u001b[49m\u001b[43m)\u001b[49m\n\u001b[32m   2549\u001b[39m \u001b[38;5;66;03m# The code below prevents the output from being displayed\u001b[39;00m\n\u001b[32m   2550\u001b[39m \u001b[38;5;66;03m# when using magics with decorator @output_can_be_silenced\u001b[39;00m\n\u001b[32m   2551\u001b[39m \u001b[38;5;66;03m# when the last Python token in the expression is a ';'.\u001b[39;00m\n\u001b[32m   2552\u001b[39m \u001b[38;5;28;01mif\u001b[39;00m \u001b[38;5;28mgetattr\u001b[39m(fn, magic.MAGIC_OUTPUT_CAN_BE_SILENCED, \u001b[38;5;28;01mFalse\u001b[39;00m):\n",
      "\u001b[36mFile \u001b[39m\u001b[32m~/miniforge3/envs/dan-dev-py312-r433/lib/python3.12/site-packages/rpy2/ipython/rmagic.py:943\u001b[39m, in \u001b[36mRMagics.R\u001b[39m\u001b[34m(self, line, cell, local_ns)\u001b[39m\n\u001b[32m    941\u001b[39m     \u001b[38;5;28;01mif\u001b[39;00m \u001b[38;5;129;01mnot\u001b[39;00m e.stdout.endswith(e.err):\n\u001b[32m    942\u001b[39m         \u001b[38;5;28mprint\u001b[39m(e.err)\n\u001b[32m--> \u001b[39m\u001b[32m943\u001b[39m     \u001b[38;5;28;01mraise\u001b[39;00m e\n\u001b[32m    944\u001b[39m \u001b[38;5;28;01mfinally\u001b[39;00m:\n\u001b[32m    945\u001b[39m     \u001b[38;5;28;01mif\u001b[39;00m \u001b[38;5;28mself\u001b[39m.device \u001b[38;5;129;01min\u001b[39;00m DEVICES_STATIC:\n",
      "\u001b[36mFile \u001b[39m\u001b[32m~/miniforge3/envs/dan-dev-py312-r433/lib/python3.12/site-packages/rpy2/ipython/rmagic.py:923\u001b[39m, in \u001b[36mRMagics.R\u001b[39m\u001b[34m(self, line, cell, local_ns)\u001b[39m\n\u001b[32m    921\u001b[39m         return_output = \u001b[38;5;28;01mFalse\u001b[39;00m\n\u001b[32m    922\u001b[39m \u001b[38;5;28;01melse\u001b[39;00m:\n\u001b[32m--> \u001b[39m\u001b[32m923\u001b[39m     text_result, result, visible = \u001b[38;5;28;43mself\u001b[39;49m\u001b[43m.\u001b[49m\u001b[43meval\u001b[49m\u001b[43m(\u001b[49m\u001b[43mcode\u001b[49m\u001b[43m)\u001b[49m\n\u001b[32m    924\u001b[39m     text_output += text_result\n\u001b[32m    925\u001b[39m     \u001b[38;5;28;01mif\u001b[39;00m visible:\n",
      "\u001b[36mFile \u001b[39m\u001b[32m~/miniforge3/envs/dan-dev-py312-r433/lib/python3.12/site-packages/rpy2/ipython/rmagic.py:389\u001b[39m, in \u001b[36mRMagics.eval\u001b[39m\u001b[34m(self, code)\u001b[39m\n\u001b[32m    386\u001b[39m \u001b[38;5;28;01mexcept\u001b[39;00m (ri.embedded.RRuntimeError, \u001b[38;5;167;01mValueError\u001b[39;00m) \u001b[38;5;28;01mas\u001b[39;00m exception:\n\u001b[32m    387\u001b[39m     \u001b[38;5;66;03m# Otherwise next return seems to have copy of error.\u001b[39;00m\n\u001b[32m    388\u001b[39m     warning_or_other_msg = \u001b[38;5;28mself\u001b[39m.flush()\n\u001b[32m--> \u001b[39m\u001b[32m389\u001b[39m     \u001b[38;5;28;01mraise\u001b[39;00m RInterpreterError(code, \u001b[38;5;28mstr\u001b[39m(exception),\n\u001b[32m    390\u001b[39m                             warning_or_other_msg)\n\u001b[32m    391\u001b[39m text_output = \u001b[38;5;28mself\u001b[39m.flush()\n\u001b[32m    392\u001b[39m \u001b[38;5;28;01mreturn\u001b[39;00m text_output, value, visible[\u001b[32m0\u001b[39m]\n",
      "\u001b[31mRInterpreterError\u001b[39m: Failed to parse and evaluate line 'HSMM <- detectGenes(HSMM, min_expr = 0.1)\\n'.\nR error message: \"Error in h(simpleError(msg, call)) : \\n  error in evaluating the argument 'x' in selecting a method for function 'rowSums': error in evaluating the argument 'object' in selecting a method for function 'exprs': object 'HSMM' not found\""
     ]
    }
   ],
   "source": [
    "%%R\n",
    "HSMM <- detectGenes(HSMM, min_expr = 0.1)"
   ]
  },
  {
   "cell_type": "code",
   "execution_count": null,
   "id": "cf12068a",
   "metadata": {},
   "outputs": [],
   "source": []
  }
 ],
 "metadata": {
  "kernelspec": {
   "display_name": "dan-dev-py312-r433",
   "language": "python",
   "name": "python3"
  },
  "language_info": {
   "codemirror_mode": {
    "name": "ipython",
    "version": 3
   },
   "file_extension": ".py",
   "mimetype": "text/x-python",
   "name": "python",
   "nbconvert_exporter": "python",
   "pygments_lexer": "ipython3",
   "version": "3.12.2"
  }
 },
 "nbformat": 4,
 "nbformat_minor": 5
}
