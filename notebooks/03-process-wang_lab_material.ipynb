{
 "cells": [
  {
   "cell_type": "markdown",
   "id": "accd9358",
   "metadata": {},
   "source": [
    "## Environment\n",
    "Using Kernel: `dan-dev-py312-r433`\n",
    "\n",
    "-----"
   ]
  },
  {
   "cell_type": "code",
   "execution_count": 1,
   "id": "a9a60cf9",
   "metadata": {},
   "outputs": [
    {
     "name": "stdout",
     "output_type": "stream",
     "text": [
      "Working directory: /Users/dan/Code/Python/wormcat3\n"
     ]
    }
   ],
   "source": [
    "import sys\n",
    "import os\n",
    "\n",
    "# ##### SET SYS PATH TO WHERE THE SOURCE CODE IS. #####\n",
    "# Note: This is not required if you are using the pip installed package\n",
    "wormcat_dir = \"/Users/dan/Code/Python/wormcat3\"\n",
    "sys.path.insert(0, wormcat_dir)\n",
    "\n",
    "print(\"Working directory:\", wormcat_dir)"
   ]
  },
  {
   "cell_type": "code",
   "execution_count": 2,
   "id": "525d0a00",
   "metadata": {},
   "outputs": [
    {
     "name": "stdout",
     "output_type": "stream",
     "text": [
      "Wormcat3 0.1.7\n"
     ]
    },
    {
     "data": {
      "text/plain": [
       "['ORF_only_v2_nov-11-2021.csv',\n",
       " 'ahringer_v2_nov-11-2021.csv',\n",
       " 'orfeome_v2_nov-11-2021.csv',\n",
       " 'whole_genome_v2_nov-11-2021.csv']"
      ]
     },
     "execution_count": 2,
     "metadata": {},
     "output_type": "execute_result"
    }
   ],
   "source": [
    "# What Annotations are available by default?\n",
    "\n",
    "import wormcat3\n",
    "from wormcat3 import AnnotationsManager\n",
    "print(f\"Wormcat3 {wormcat3.__version__}\")\n",
    "AnnotationsManager.available_annotation_files()"
   ]
  },
  {
   "cell_type": "code",
   "execution_count": 3,
   "id": "a02d846f",
   "metadata": {},
   "outputs": [
    {
     "name": "stdout",
     "output_type": "stream",
     "text": [
      "[<PAdjustMethod.BONFERRONI: 'bonferroni'>, <PAdjustMethod.FDR: 'fdr_bh'>]\n"
     ]
    }
   ],
   "source": [
    "# What PAdjustMethod(s) are available?\n",
    "\n",
    "from wormcat3 import PAdjustMethod\n",
    "print(list(PAdjustMethod))"
   ]
  },
  {
   "cell_type": "markdown",
   "id": "65317706",
   "metadata": {},
   "source": [
    "-----\n"
   ]
  },
  {
   "cell_type": "markdown",
   "id": "7e39e888",
   "metadata": {},
   "source": [
    "from wormcat3 import Wormcat, WormcatError, PAdjustMethod\n",
    "from wormcat3 import constants as cs\n",
    "from pathlib import Path\n",
    "\n",
    "derived_data_path = Path(\"../derived_data/wang_lab\")\n",
    "input_data_path = derived_data_path / \"low_sam_s009/basal_conditions\"\n",
    "output_analysis_path = \"../analysis/walker_lab/low_sam\"\n",
    "\n",
    "wormcat = Wormcat(working_dir_path = output_analysis_path,\n",
    "                  title = \"low_sam basal_conditions Whole Genome\", \n",
    "                  annotation_file_name = 'whole_genome_v2_nov-11-2021.csv')\n",
    "\n",
    "wormcat.wormcat_batch(input_data_path, \n",
    "                      p_adjust_method = PAdjustMethod.BONFERRONI, \n",
    "                      p_adjust_threshold = 0.05,\n",
    "                      gene_type = cs.GENE_TYPE_WORMBASE_ID)"
   ]
  }
 ],
 "metadata": {
  "kernelspec": {
   "display_name": "dan-dev-py312-r433",
   "language": "python",
   "name": "python3"
  },
  "language_info": {
   "codemirror_mode": {
    "name": "ipython",
    "version": 3
   },
   "file_extension": ".py",
   "mimetype": "text/x-python",
   "name": "python",
   "nbconvert_exporter": "python",
   "pygments_lexer": "ipython3",
   "version": "3.12.2"
  }
 },
 "nbformat": 4,
 "nbformat_minor": 5
}
