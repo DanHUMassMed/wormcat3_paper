{
 "cells": [
  {
   "cell_type": "markdown",
   "id": "2fe4edb3",
   "metadata": {},
   "source": [
    "## Environment\n",
    "Using Kernel: `dan-dev-py312-r433`\n",
    "\n",
    "-----"
   ]
  },
  {
   "cell_type": "code",
   "execution_count": 2,
   "id": "0c200503",
   "metadata": {},
   "outputs": [],
   "source": [
    "from pathlib import Path\n",
    "\n",
    "derived_data_path = Path(\"../derived_data/ahringer_lab\")\n",
    "output_analysis_path = \"../analysis/ahringer_lab\""
   ]
  },
  {
   "cell_type": "code",
   "execution_count": 3,
   "id": "544346ff",
   "metadata": {},
   "outputs": [
    {
     "name": "stdout",
     "output_type": "stream",
     "text": [
      "Analysis complete. Output can be found at ../analysis/ahringer_lab/Ahr_All_Tissue_Whole_Genome_40848/intestine_35970\n",
      "Analysis complete. Output can be found at ../analysis/ahringer_lab/Ahr_All_Tissue_Whole_Genome_40848/neuron_all_20527\n",
      "Analysis complete. Output can be found at ../analysis/ahringer_lab/Ahr_All_Tissue_Whole_Genome_40848/germline_95633\n",
      "Analysis complete. Output can be found at ../analysis/ahringer_lab/Ahr_All_Tissue_Whole_Genome_40848/soma_40852\n",
      "Analysis complete. Output can be found at ../analysis/ahringer_lab/Ahr_All_Tissue_Whole_Genome_40848/hypoderm_all_37700\n",
      "Analysis complete. Output can be found at ../analysis/ahringer_lab/Ahr_All_Tissue_Whole_Genome_40848/ubi_all_56211\n",
      "Analysis complete. Output can be found at ../analysis/ahringer_lab/Ahr_All_Tissue_Whole_Genome_40848/muscle_all_42897\n",
      "Analysis complete. Output can be found at ../analysis/ahringer_lab/Ahr_All_Tissue_Whole_Genome_40848/ubiquitous_46239\n",
      "Analysis complete. Output can be found at ../analysis/ahringer_lab/Ahr_All_Tissue_Whole_Genome_40848/unclassified_36213\n",
      "Analysis complete. Output can be found at ../analysis/ahringer_lab/Ahr_All_Tissue_Whole_Genome_40848/intestine_all_23748\n",
      "Analysis complete. Output can be found at ../analysis/ahringer_lab/Ahr_All_Tissue_Whole_Genome_40848/germline_all_43979\n",
      "Analysis complete. Output can be found at ../analysis/ahringer_lab/Ahr_All_Tissue_Whole_Genome_40848/sperm_35299\n",
      "Analysis complete. Output can be found at ../analysis/ahringer_lab/Ahr_All_Tissue_Whole_Genome_40848/neurons_41858\n",
      "Analysis complete. Output can be found at ../analysis/ahringer_lab/Ahr_All_Tissue_Whole_Genome_40848/ubi_biased_57987\n",
      "Analysis complete. Output can be found at ../analysis/ahringer_lab/Ahr_All_Tissue_Whole_Genome_40848/hypoderm_29514\n",
      "Analysis complete. Output can be found at ../analysis/ahringer_lab/Ahr_All_Tissue_Whole_Genome_40848/muscle_70733\n",
      "Analysis complete. Output can be found at ../analysis/ahringer_lab/Ahr_All_Tissue_Whole_Genome_40848\n"
     ]
    }
   ],
   "source": [
    "from pathlib import Path\n",
    "from wormcat3 import Wormcat, WormcatError, PAdjustMethod\n",
    "from wormcat3 import constants as cs\n",
    "\n",
    "file_nm = \"Ahr_All_Tissues.xlsx\"\n",
    "title = \"Ahr All Tissue Whole Genome\"\n",
    "annotation_file = \"whole_genome_v2_nov-11-2021.csv\"\n",
    "\n",
    "wormcat = Wormcat(working_dir_path = output_analysis_path,\n",
    "                title = title, \n",
    "                annotation_file_name = annotation_file)\n",
    "\n",
    "wormcat.wormcat_batch(f\"{derived_data_path}/{file_nm}\", \n",
    "                    p_adjust_method = PAdjustMethod.BONFERRONI, \n",
    "                    p_adjust_threshold = 0.05,\n",
    "                    gene_type = cs.GENE_TYPE_WORMBASE_ID)"
   ]
  },
  {
   "cell_type": "code",
   "execution_count": null,
   "id": "d6e35021",
   "metadata": {},
   "outputs": [],
   "source": []
  }
 ],
 "metadata": {
  "kernelspec": {
   "display_name": "dan-dev-py312-r433",
   "language": "python",
   "name": "python3"
  },
  "language_info": {
   "codemirror_mode": {
    "name": "ipython",
    "version": 3
   },
   "file_extension": ".py",
   "mimetype": "text/x-python",
   "name": "python",
   "nbconvert_exporter": "python",
   "pygments_lexer": "ipython3",
   "version": "3.12.2"
  }
 },
 "nbformat": 4,
 "nbformat_minor": 5
}
