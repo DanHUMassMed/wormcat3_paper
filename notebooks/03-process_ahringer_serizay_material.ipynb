{
 "cells": [
  {
   "cell_type": "markdown",
   "id": "2fe4edb3",
   "metadata": {},
   "source": [
    "### Conda Environment\n",
    "\n",
    "Using Kernel: `dan-dev-py312-r433`\n",
    "\n",
    "-----"
   ]
  },
  {
   "cell_type": "code",
   "execution_count": 4,
   "id": "0c200503",
   "metadata": {},
   "outputs": [],
   "source": [
    "from pathlib import Path\n",
    "\n",
    "derived_data_path = Path(\"../derived_data/ahringer_serizay\")\n",
    "output_analysis_path = \"../analysis/ahringer_serizay\""
   ]
  },
  {
   "cell_type": "code",
   "execution_count": 5,
   "id": "544346ff",
   "metadata": {},
   "outputs": [
    {
     "name": "stdout",
     "output_type": "stream",
     "text": [
      "Analysis complete. Output can be found at ../analysis/ahringer_serizay/Ahringer_Serizay_Tissues_Whole_Genome_87003/intestine_33534\n",
      "Analysis complete. Output can be found at ../analysis/ahringer_serizay/Ahringer_Serizay_Tissues_Whole_Genome_87003/neuron_all_03873\n",
      "Analysis complete. Output can be found at ../analysis/ahringer_serizay/Ahringer_Serizay_Tissues_Whole_Genome_87003/germline_12509\n",
      "Analysis complete. Output can be found at ../analysis/ahringer_serizay/Ahringer_Serizay_Tissues_Whole_Genome_87003/soma_02181\n",
      "Analysis complete. Output can be found at ../analysis/ahringer_serizay/Ahringer_Serizay_Tissues_Whole_Genome_87003/hypoderm_all_87108\n",
      "Analysis complete. Output can be found at ../analysis/ahringer_serizay/Ahringer_Serizay_Tissues_Whole_Genome_87003/ubi_all_52004\n",
      "Analysis complete. Output can be found at ../analysis/ahringer_serizay/Ahringer_Serizay_Tissues_Whole_Genome_87003/muscle_all_58728\n",
      "Analysis complete. Output can be found at ../analysis/ahringer_serizay/Ahringer_Serizay_Tissues_Whole_Genome_87003/ubiquitous_81055\n",
      "Analysis complete. Output can be found at ../analysis/ahringer_serizay/Ahringer_Serizay_Tissues_Whole_Genome_87003/unclassified_73661\n",
      "Analysis complete. Output can be found at ../analysis/ahringer_serizay/Ahringer_Serizay_Tissues_Whole_Genome_87003/intestine_all_11399\n",
      "Analysis complete. Output can be found at ../analysis/ahringer_serizay/Ahringer_Serizay_Tissues_Whole_Genome_87003/germline_all_29326\n",
      "Analysis complete. Output can be found at ../analysis/ahringer_serizay/Ahringer_Serizay_Tissues_Whole_Genome_87003/sperm_02879\n",
      "Analysis complete. Output can be found at ../analysis/ahringer_serizay/Ahringer_Serizay_Tissues_Whole_Genome_87003/neurons_26204\n",
      "Analysis complete. Output can be found at ../analysis/ahringer_serizay/Ahringer_Serizay_Tissues_Whole_Genome_87003/ubi_biased_54893\n",
      "Analysis complete. Output can be found at ../analysis/ahringer_serizay/Ahringer_Serizay_Tissues_Whole_Genome_87003/hypoderm_21997\n",
      "Analysis complete. Output can be found at ../analysis/ahringer_serizay/Ahringer_Serizay_Tissues_Whole_Genome_87003/muscle_79135\n",
      "Analysis complete. Output can be found at ../analysis/ahringer_serizay/Ahringer_Serizay_Tissues_Whole_Genome_87003\n"
     ]
    }
   ],
   "source": [
    "from pathlib import Path\n",
    "from wormcat3 import Wormcat, WormcatError, PAdjustMethod\n",
    "from wormcat3 import constants as cs\n",
    "\n",
    "file_nm = \"ahringer_serizay_all_tissues.xlsx\"\n",
    "title = \"Ahringer Serizay Tissues Whole Genome\"\n",
    "annotation_file = \"whole_genome_v2_nov-11-2021.csv\"\n",
    "\n",
    "wormcat = Wormcat(working_dir_path = output_analysis_path,\n",
    "                title = title, \n",
    "                annotation_file_name = annotation_file)\n",
    "\n",
    "wormcat.wormcat_batch(f\"{derived_data_path}/{file_nm}\", \n",
    "                    p_adjust_method = PAdjustMethod.BONFERRONI, \n",
    "                    p_adjust_threshold = 0.05,\n",
    "                    gene_type = cs.GENE_TYPE_WORMBASE_ID)"
   ]
  },
  {
   "cell_type": "code",
   "execution_count": null,
   "id": "d6e35021",
   "metadata": {},
   "outputs": [],
   "source": []
  }
 ],
 "metadata": {
  "kernelspec": {
   "display_name": "dan-dev-py312-r433",
   "language": "python",
   "name": "python3"
  },
  "language_info": {
   "codemirror_mode": {
    "name": "ipython",
    "version": 3
   },
   "file_extension": ".py",
   "mimetype": "text/x-python",
   "name": "python",
   "nbconvert_exporter": "python",
   "pygments_lexer": "ipython3",
   "version": "3.12.2"
  }
 },
 "nbformat": 4,
 "nbformat_minor": 5
}
