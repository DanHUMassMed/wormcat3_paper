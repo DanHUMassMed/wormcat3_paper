{
 "cells": [
  {
   "cell_type": "markdown",
   "id": "f8858c43",
   "metadata": {},
   "source": [
    "## Environment\n",
    "Using Kernel: `dan-dev-py312-r433`\n",
    "\n",
    "-----"
   ]
  },
  {
   "cell_type": "markdown",
   "id": "c6349e5e",
   "metadata": {},
   "source": [
    "# Preprocess"
   ]
  },
  {
   "cell_type": "markdown",
   "id": "496214a3",
   "metadata": {},
   "source": [
    "#### Stage the data\n",
    "\n",
    "- Staging Ahringer Lab Data from Supplemental Materials to **original_source_data**\n",
    "\n",
    "**Files:**\n",
    "> - Ahr_All_tissues.xlsx"
   ]
  },
  {
   "cell_type": "code",
   "execution_count": 1,
   "id": "00d86a67",
   "metadata": {},
   "outputs": [],
   "source": [
    "import pandas as pd\n",
    "from pathlib import Path\n",
    "\n",
    "def load_and_sort_rna_metrics(file_path):\n",
    "    \"\"\"\n",
    "    Reads the 'RNA_metrics' sheet from an Excel file, drops the first two rows,\n",
    "    sets the third row as the header, and sorts the DataFrame by the 'Annotation' column.\n",
    "\n",
    "    \"\"\"\n",
    "    # Read the sheet without setting a header initially\n",
    "    df_raw = pd.read_excel(file_path, sheet_name='RNA_metrics', header=None)\n",
    "    \n",
    "    # Drop the first two rows\n",
    "    df_cleaned = df_raw.iloc[2:].copy()\n",
    "    \n",
    "    # Set the third row (originally row index 2) as the header\n",
    "    df_cleaned.columns = df_raw.iloc[2]\n",
    "    df_cleaned = df_cleaned.iloc[1:]  # Drop the header row now moved to column names\n",
    "    \n",
    "    # Reset index for cleanliness\n",
    "    df_cleaned.reset_index(drop=True, inplace=True)\n",
    "    \n",
    "    # Sort by 'Annotation' column\n",
    "    if 'Annotation' in df_cleaned.columns:\n",
    "        df_sorted = df_cleaned.sort_values(by='Annotation')\n",
    "    else:\n",
    "        raise KeyError(\"The column 'Annotation' was not found in the sheet.\")\n",
    "    \n",
    "    return df_sorted\n",
    "\n",
    "\n",
    "def split_by_annotation_and_export(rna_metrics_df, filters, output_file):\n",
    "    \"\"\"\n",
    "    Splits the input DataFrame by unique 'Annotation' values and writes each\n",
    "    subset to an Excel sheet. Each sheet contains only the 'WBID' values\n",
    "    under the column name 'Wormbase ID'.\n",
    "\n",
    "    \"\"\"\n",
    "    \n",
    "    subset_dict = {}\n",
    "    for name, condition in filters.items():\n",
    "        subset = rna_metrics_df[rna_metrics_df['Annotation'].apply(condition)]\n",
    "        subset_dict[name] = subset['WBID'].reset_index(drop=True)\n",
    "        \n",
    "\n",
    "    # Write to Excel\n",
    "    directory = Path(output_file).parent\n",
    "    directory.mkdir(parents=True, exist_ok=True)\n",
    "    with pd.ExcelWriter(output_file, engine='openpyxl') as writer:\n",
    "        for annotation, df in subset_dict.items():\n",
    "            # Sheet names cannot be longer than 31 characters or contain certain symbols\n",
    "            safe_sheet_name = str(annotation)[:31].replace('/', '_')\n",
    "            df.to_excel(writer, sheet_name=safe_sheet_name, index=False)\n",
    "\n",
    "    return subset_dict"
   ]
  },
  {
   "cell_type": "code",
   "execution_count": 2,
   "id": "2ae39427",
   "metadata": {},
   "outputs": [],
   "source": [
    "\n",
    "rna_metrics_df = load_and_sort_rna_metrics(\"../source_data/ahringer_lab/Supplemental_Table_S2.xlsx\")\n",
    "\n",
    "filters = {\n",
    "    'unclassified': lambda s: s.startswith('Unclassified'),\n",
    "    'ubiquitous': lambda s: s.startswith('Ubiq'),\n",
    "    'ubi_biased': lambda s: s.startswith('Ubiq.-Biased'),\n",
    "    'sperm': lambda s: s.startswith('Sperm'),\n",
    "    'soma': lambda s: s.startswith('Soma'),\n",
    "    'neurons': lambda s: s.startswith('Neurons'),\n",
    "    'muscle': lambda s: s.startswith('Muscle'),\n",
    "    'intestine': lambda s: s.startswith('Intest.'),\n",
    "    'hypoderm': lambda s: s.startswith('Hypod.'),\n",
    "    'germline': lambda s: s.startswith('Germline.'),\n",
    "    \n",
    "    'ubi_all': lambda s: s.startswith('Ubi'),\n",
    "    'neuron_all': lambda s: s.startswith('Neuron'),\n",
    "    'intestine_all': lambda s: 'Intest' in s,\n",
    "    'muscle_all': lambda s: 'Muscle' in s,\n",
    "    'hypoderm_all': lambda s: 'Hypod' in s,\n",
    "    'germline_all': lambda s: 'Germline' in s\n",
    "}\n",
    "\n",
    "\n",
    "\n",
    "annotation_dict = split_by_annotation_and_export(rna_metrics_df, filters, \"../derived_data/ahringer_lab/Ahr_All_Tissues.xlsx\")"
   ]
  },
  {
   "cell_type": "code",
   "execution_count": null,
   "id": "066f2ed2",
   "metadata": {},
   "outputs": [],
   "source": []
  }
 ],
 "metadata": {
  "kernelspec": {
   "display_name": "dan-dev-py312-r433",
   "language": "python",
   "name": "python3"
  },
  "language_info": {
   "codemirror_mode": {
    "name": "ipython",
    "version": 3
   },
   "file_extension": ".py",
   "mimetype": "text/x-python",
   "name": "python",
   "nbconvert_exporter": "python",
   "pygments_lexer": "ipython3",
   "version": "3.12.2"
  }
 },
 "nbformat": 4,
 "nbformat_minor": 5
}
