{
 "cells": [
  {
   "cell_type": "markdown",
   "id": "7c80fef9",
   "metadata": {},
   "source": [
    "### Conda Environment\n",
    "\n",
    "Using Kernel: `dan-dev-py312-r433`\n",
    "\n",
    "-----"
   ]
  },
  {
   "cell_type": "markdown",
   "id": "5f034b3e",
   "metadata": {},
   "source": [
    "# Walker Lab Process\n",
    "\n",
    "-----\n",
    "\n",
    "- **Process**"
   ]
  },
  {
   "cell_type": "code",
   "execution_count": null,
   "id": "ce2c6c77",
   "metadata": {},
   "outputs": [],
   "source": [
    "# What Annotations are available by default?\n",
    "\n",
    "import wormcat3\n",
    "from wormcat3 import AnnotationsManager\n",
    "print(f\"Wormcat3 {wormcat3.__version__}\")\n",
    "AnnotationsManager.available_annotation_files()\n"
   ]
  },
  {
   "cell_type": "code",
   "execution_count": null,
   "id": "0a8a5707",
   "metadata": {},
   "outputs": [],
   "source": [
    "# What PAdjustMethod(s) are available?\n",
    "\n",
    "from wormcat3 import PAdjustMethod\n",
    "print(list(PAdjustMethod))"
   ]
  },
  {
   "cell_type": "markdown",
   "id": "a9130757",
   "metadata": {},
   "source": [
    "-----\n",
    "#### Stress-responsive and metabolic gene regulation are altered in low S-adenosylmethionine\n",
    "\n",
    "**Compare**\n",
    "- low sam basal condition whole_genome_v2\n",
    "- low sam heat shock whole_genome_v2\n",
    "\n",
    "\n",
    "<span style=\"color: red;\">SEE: **03-process_walker_lab-low_sam.ipynb** for additional processing</span>"
   ]
  },
  {
   "cell_type": "markdown",
   "id": "126aa6c1",
   "metadata": {},
   "source": [
    "-----\n",
    "#### S-adenosylmethionine synthases specify distinct H3K4me3 populations and gene expression patterns during heat stress\n",
    "\n",
    "**Compare**\n",
    "- cut & tag whole_genome_v2\n",
    "- cut & tag ORF_only_v2"
   ]
  },
  {
   "cell_type": "code",
   "execution_count": null,
   "id": "d83c336f",
   "metadata": {},
   "outputs": [],
   "source": [
    "from wormcat3 import Wormcat, WormcatError, PAdjustMethod\n",
    "from wormcat3 import constants as cs\n",
    "\n",
    "input_data_path = derived_data_path / \"cut_and_tag/cut_and_tag\"\n",
    "output_analysis_path = \"../analysis/walker_lab/cut_and_tag\"\n",
    "\n",
    "\n",
    "wormcat = Wormcat(working_dir_path = output_analysis_path,\n",
    "                  title = \"Cut and Tag Whole Genome\", \n",
    "                  annotation_file_name = 'whole_genome_v2_nov-11-2021.csv')\n",
    "\n",
    "wormcat.wormcat_batch(input_data_path, \n",
    "                      p_adjust_method = PAdjustMethod.BONFERRONI, \n",
    "                      p_adjust_threshold = 0.05,\n",
    "                      gene_type = cs.GENE_TYPE_WORMBASE_ID)"
   ]
  },
  {
   "cell_type": "code",
   "execution_count": null,
   "id": "68092b79",
   "metadata": {},
   "outputs": [],
   "source": [
    "\n",
    "input_data_path = derived_data_path / \"cut_and_tag/cut_and_tag\"\n",
    "output_analysis_path = \"../analysis/walker_lab/cut_and_tag\"\n",
    "\n",
    "wormcat = Wormcat(working_dir_path = output_analysis_path,\n",
    "                  title = \"Cut and Tag ORF Only\", \n",
    "                  annotation_file_name = 'ORF_only_v2_nov-11-2021.csv')\n",
    "\n",
    "wormcat.wormcat_batch(input_data_path, \n",
    "                      p_adjust_method = PAdjustMethod.BONFERRONI, \n",
    "                      p_adjust_threshold = 0.05,\n",
    "                      gene_type = cs.GENE_TYPE_WORMBASE_ID)\n"
   ]
  },
  {
   "cell_type": "markdown",
   "id": "162bd5f5",
   "metadata": {},
   "source": [
    "-----\n",
    "#### WormCat: An Online Tool for Annotation and Visualization of Caenorhabditis elegans Genome-Scale Data \n",
    "\n",
    "**Compare**\n",
    "- Random genes whole_genome_v2\n",
    "- Random genes ORF_only_v2"
   ]
  },
  {
   "cell_type": "code",
   "execution_count": null,
   "id": "68bb792c",
   "metadata": {},
   "outputs": [],
   "source": [
    "\n",
    "from wormcat3 import Wormcat, WormcatError, PAdjustMethod\n",
    "from wormcat3 import constants as cs\n",
    "\n",
    "input_data_path = derived_data_path / \"wc1_random/random\"\n",
    "output_analysis_path = \"../analysis/walker_lab/random\"\n",
    "\n",
    "wormcat = Wormcat(working_dir_path = output_analysis_path,\n",
    "                  title = \"Random Whole Genome\", \n",
    "                  annotation_file_name = 'whole_genome_v2_nov-11-2021.csv')\n",
    "\n",
    "wormcat.wormcat_batch(input_data_path, \n",
    "                      p_adjust_method = PAdjustMethod.BONFERRONI, \n",
    "                      p_adjust_threshold = 0.05,\n",
    "                      gene_type = cs.GENE_TYPE_WORMBASE_ID)"
   ]
  },
  {
   "cell_type": "code",
   "execution_count": null,
   "id": "9f204500",
   "metadata": {},
   "outputs": [],
   "source": [
    "\n",
    "input_data_path = derived_data_path / \"wc1_random/random\"\n",
    "output_analysis_path = \"../analysis/walker_lab/random\"\n",
    "\n",
    "wormcat = Wormcat(working_dir_path = output_analysis_path,\n",
    "                  title = \"Random ORF Only\", \n",
    "                  annotation_file_name = 'ORF_only_v2_nov-11-2021.csv')\n",
    "\n",
    "wormcat.wormcat_batch(input_data_path, \n",
    "                      p_adjust_method = PAdjustMethod.BONFERRONI, \n",
    "                      p_adjust_threshold = 0.05,\n",
    "                      gene_type = cs.GENE_TYPE_WORMBASE_ID)"
   ]
  },
  {
   "cell_type": "markdown",
   "id": "91266fcf",
   "metadata": {},
   "source": [
    "-----\n",
    "#### Defining characteristics and conservation of poorly annotated genes in Caenorhabditis elegans using WormCat 2.0\n",
    "\n",
    "**Compare**\n",
    "- Peptides whole_genome_v2\n",
    "- Peptides ORF_only_v2\n"
   ]
  },
  {
   "cell_type": "code",
   "execution_count": null,
   "id": "5eaedd7e",
   "metadata": {},
   "outputs": [],
   "source": [
    "input_data_path = derived_data_path / \"wc2_peptides/peptides\"\n",
    "output_analysis_path = \"../analysis/walker_lab/peptides\"\n",
    "\n",
    "wormcat = Wormcat(working_dir_path = output_analysis_path,\n",
    "                  title = \"Peptides Whole Genome\", \n",
    "                  annotation_file_name = 'whole_genome_v2_nov-11-2021.csv')\n",
    "\n",
    "wormcat.wormcat_batch(input_data_path, \n",
    "                      p_adjust_method = PAdjustMethod.BONFERRONI, \n",
    "                      p_adjust_threshold = 0.05,\n",
    "                      gene_type = cs.GENE_TYPE_WORMBASE_ID)"
   ]
  },
  {
   "cell_type": "code",
   "execution_count": null,
   "id": "1c7ead64",
   "metadata": {},
   "outputs": [],
   "source": [
    "input_data_path = derived_data_path / \"wc2_peptides/peptides\"\n",
    "output_analysis_path = \"../analysis/walker_lab/peptides\"\n",
    "\n",
    "wormcat = Wormcat(working_dir_path = output_analysis_path,\n",
    "                  title = \"Peptides ORF Only\", \n",
    "                  annotation_file_name = 'ORF_only_v2_nov-11-2021.csv')\n",
    "\n",
    "wormcat.wormcat_batch(input_data_path, \n",
    "                      p_adjust_method = PAdjustMethod.BONFERRONI, \n",
    "                      p_adjust_threshold = 0.05,\n",
    "                      gene_type = cs.GENE_TYPE_WORMBASE_ID)"
   ]
  },
  {
   "cell_type": "code",
   "execution_count": null,
   "id": "a3760313",
   "metadata": {},
   "outputs": [],
   "source": []
  }
 ],
 "metadata": {
  "kernelspec": {
   "display_name": "dan-dev-py312-r433",
   "language": "python",
   "name": "python3"
  },
  "language_info": {
   "codemirror_mode": {
    "name": "ipython",
    "version": 3
   },
   "file_extension": ".py",
   "mimetype": "text/x-python",
   "name": "python",
   "nbconvert_exporter": "python",
   "pygments_lexer": "ipython3",
   "version": "3.12.2"
  }
 },
 "nbformat": 4,
 "nbformat_minor": 5
}
