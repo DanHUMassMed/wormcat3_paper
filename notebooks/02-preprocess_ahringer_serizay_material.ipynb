{
 "cells": [
  {
   "cell_type": "markdown",
   "id": "f8858c43",
   "metadata": {},
   "source": [
    "### Conda Environment\n",
    "\n",
    "Using Kernel: `dan-dev-py312-r433`\n",
    "\n",
    "-----"
   ]
  },
  {
   "cell_type": "markdown",
   "id": "c6349e5e",
   "metadata": {},
   "source": [
    "# Ahringer Serizay Preprocess"
   ]
  },
  {
   "cell_type": "markdown",
   "id": "496214a3",
   "metadata": {},
   "source": [
    "#### Stage the data\n",
    "\n",
    "- Staging Data from **source_data** to **derived_data**\n",
    "\n",
    "**Files Derived:**\n",
    "> - ahringer_erizay_all_tissues.xlsx"
   ]
  },
  {
   "cell_type": "markdown",
   "id": "3f82cce1",
   "metadata": {},
   "source": [
    "-----\n",
    "- **Helper functions**"
   ]
  },
  {
   "cell_type": "code",
   "execution_count": 1,
   "id": "00d86a67",
   "metadata": {},
   "outputs": [],
   "source": [
    "# Helper functions\n",
    "\n",
    "import pandas as pd\n",
    "from pathlib import Path\n",
    "\n",
    "def load_and_sort_rna_metrics(file_path):\n",
    "    \"\"\"\n",
    "    Reads the 'RNA_metrics' sheet from an Excel file, drops the first two rows,\n",
    "    sets the third row as the header, and sorts the DataFrame by the 'Annotation' column.\n",
    "\n",
    "    \"\"\"\n",
    "    # Read the sheet without setting a header initially\n",
    "    df_raw = pd.read_excel(file_path, sheet_name='RNA_metrics', header=None)\n",
    "    \n",
    "    # Drop the first two rows\n",
    "    df_cleaned = df_raw.iloc[2:].copy()\n",
    "    \n",
    "    # Set the third row (originally row index 2) as the header\n",
    "    df_cleaned.columns = df_raw.iloc[2]\n",
    "    df_cleaned = df_cleaned.iloc[1:]  # Drop the header row now moved to column names\n",
    "    \n",
    "    # Reset index for cleanlines\n",
    "    df_cleaned.reset_index(drop=True, inplace=True)\n",
    "    \n",
    "    # Sort by 'Annotation' column\n",
    "    if 'Annotation' in df_cleaned.columns:\n",
    "        df_sorted = df_cleaned.sort_values(by='Annotation')\n",
    "    else:\n",
    "        raise KeyError(\"The column 'Annotation' was not found in the sheet.\")\n",
    "    \n",
    "    return df_sorted\n",
    "\n",
    "\n",
    "def split_by_annotation_and_export(rna_metrics_df, filters, output_file):\n",
    "    \"\"\"\n",
    "    Splits the input DataFrame by unique 'Annotation' values and writes each\n",
    "    subset to an Excel sheet. Each sheet contains only the 'WBID' values\n",
    "    under the column name 'Wormbase ID'.\n",
    "\n",
    "    \"\"\"\n",
    "    \n",
    "    subset_dict = {}\n",
    "    for name, condition in filters.items():\n",
    "        subset = rna_metrics_df[rna_metrics_df['Annotation'].apply(condition)]\n",
    "        subset_dict[name] = subset['WBID'].reset_index(drop=True)\n",
    "        \n",
    "\n",
    "    # Write to Excel\n",
    "    directory = Path(output_file).parent\n",
    "    directory.mkdir(parents=True, exist_ok=True)\n",
    "    with pd.ExcelWriter(output_file, engine='openpyxl') as writer:\n",
    "        for annotation, df in subset_dict.items():\n",
    "            # Sheet names cannot be longer than 31 characters or contain certain symbols\n",
    "            safe_sheet_name = str(annotation)[:31].replace('/', '_')\n",
    "            df.to_excel(writer, sheet_name=safe_sheet_name, index=False)\n",
    "\n",
    "    return subset_dict"
   ]
  },
  {
   "cell_type": "markdown",
   "id": "eda4ecca",
   "metadata": {},
   "source": [
    "-----\n",
    "\n",
    "- **Preprocess**"
   ]
  },
  {
   "cell_type": "code",
   "execution_count": 2,
   "id": "b7be3cae",
   "metadata": {},
   "outputs": [],
   "source": [
    "source_data_path = \"../source_data/ahringer_serizay\"\n",
    "derived_data_path = \"../derived_data/ahringer_serizay\""
   ]
  },
  {
   "cell_type": "code",
   "execution_count": 3,
   "id": "2ae39427",
   "metadata": {},
   "outputs": [],
   "source": [
    "\n",
    "rna_metrics_df = load_and_sort_rna_metrics(f\"{source_data_path}/Supplemental_Table_S2.xlsx\")\n",
    "\n",
    "filters = {\n",
    "    'unclassified' : lambda s: s == 'Unclassified',\n",
    "    'ubiquitous'   : lambda s: s == 'Ubiq.',\n",
    "    'ubi_biased'   : lambda s: s == 'Ubiq.-Biased',\n",
    "    'sperm'        : lambda s: s == 'Sperm',\n",
    "    'soma'         : lambda s: s == 'Soma',\n",
    "    'neurons'      : lambda s: s == 'Neurons',\n",
    "    'muscle'       : lambda s: s == 'Muscle',\n",
    "    'intestine'    : lambda s: s == 'Intest.',\n",
    "    'hypoderm'     : lambda s: s == 'Hypod.',\n",
    "    'germline'     : lambda s: s == 'Germline',    \n",
    "    'ubi_all'      : lambda s: s.startswith('Ubi'),\n",
    "    'neuron_all'   : lambda s: s.startswith('Neuron'),\n",
    "    'intestine_all': lambda s: 'Intest' in s,\n",
    "    'muscle_all'   : lambda s: 'Muscle' in s,\n",
    "    'hypoderm_all' : lambda s: 'Hypod' in s,\n",
    "    'germline_all' : lambda s: 'Germline' in s\n",
    "}\n",
    "\n",
    "annotation_dict = split_by_annotation_and_export(rna_metrics_df, filters, f\"{derived_data_path}/ahringer_serizay_all_tissues.xlsx\")"
   ]
  }
 ],
 "metadata": {
  "kernelspec": {
   "display_name": "dan-dev-py312-r433",
   "language": "python",
   "name": "python3"
  },
  "language_info": {
   "codemirror_mode": {
    "name": "ipython",
    "version": 3
   },
   "file_extension": ".py",
   "mimetype": "text/x-python",
   "name": "python",
   "nbconvert_exporter": "python",
   "pygments_lexer": "ipython3",
   "version": "3.12.2"
  }
 },
 "nbformat": 4,
 "nbformat_minor": 5
}
