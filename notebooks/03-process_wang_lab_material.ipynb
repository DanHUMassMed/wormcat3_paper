{
 "cells": [
  {
   "cell_type": "markdown",
   "id": "accd9358",
   "metadata": {},
   "source": [
    "### Conda Environment\n",
    "\n",
    "Using Kernel: `dan-dev-py312-r433`\n",
    "\n",
    "-----"
   ]
  },
  {
   "cell_type": "code",
   "execution_count": 1,
   "id": "525d0a00",
   "metadata": {},
   "outputs": [
    {
     "name": "stdout",
     "output_type": "stream",
     "text": [
      "Wormcat3 0.1.8\n"
     ]
    },
    {
     "data": {
      "text/plain": [
       "['ORF_only_v2_nov-11-2021.csv',\n",
       " 'ahringer_v2_nov-11-2021.csv',\n",
       " 'orfeome_v2_nov-11-2021.csv',\n",
       " 'whole_genome_v2_nov-11-2021.csv']"
      ]
     },
     "execution_count": 1,
     "metadata": {},
     "output_type": "execute_result"
    }
   ],
   "source": [
    "# What Annotations are available by default?\n",
    "\n",
    "import wormcat3\n",
    "from wormcat3 import AnnotationsManager\n",
    "print(f\"Wormcat3 {wormcat3.__version__}\")\n",
    "AnnotationsManager.available_annotation_files()"
   ]
  },
  {
   "cell_type": "code",
   "execution_count": null,
   "id": "a02d846f",
   "metadata": {},
   "outputs": [],
   "source": [
    "# What PAdjustMethod(s) are available?\n",
    "\n",
    "from wormcat3 import PAdjustMethod\n",
    "print(list(PAdjustMethod))"
   ]
  },
  {
   "cell_type": "markdown",
   "id": "65317706",
   "metadata": {},
   "source": [
    "-----\n"
   ]
  },
  {
   "cell_type": "code",
   "execution_count": null,
   "id": "ea289aca",
   "metadata": {},
   "outputs": [],
   "source": [
    "from pathlib import Path\n",
    "from wormcat3 import Wormcat, WormcatError, PAdjustMethod\n",
    "from wormcat3 import constants as cs\n",
    "\n",
    "def format_filename(filename: str) -> str:\n",
    "    # Step 1: Drop `.xlsx` and remove underscores\n",
    "    base = filename.removesuffix('.xlsx').replace('_', '')\n",
    "    \n",
    "    # Step 2: Break into words (based on original underscores)\n",
    "    words = filename.removesuffix('.xlsx').split('_')\n",
    "    \n",
    "    # Step 3: Capitalize first word fully, others title-case\n",
    "    words = [words[0].upper()] + [w.capitalize() for w in words[1:]]\n",
    "    \n",
    "    # Step 4: Drop every other word (keep 0, 2, 4, ...)\n",
    "    filtered_words = words[::2]\n",
    "    \n",
    "    # Step 5: Join with a single space\n",
    "    return ' '.join(filtered_words)\n",
    "\n",
    "def list_excel_files(dir_path: str | Path) -> list[str]:\n",
    "    dir_path = Path(dir_path)\n",
    "    return [file.name for file in dir_path.iterdir() if file.is_file() and file.suffix == '.xlsx']\n",
    "\n",
    "def run_batch(file_nm, input_data_path, output_analysis_path, annotation_nm, annotation_file):\n",
    "    title = f\"{format_filename(file_nm)} {annotation_nm}\"\n",
    "    wormcat = Wormcat(working_dir_path = output_analysis_path,\n",
    "                  title = title, \n",
    "                  annotation_file_name = annotation_file)\n",
    "\n",
    "    wormcat.wormcat_batch(f\"{input_data_path}/{file_nm}\", \n",
    "                      p_adjust_method = PAdjustMethod.BONFERRONI, \n",
    "                      p_adjust_threshold = 0.05,\n",
    "                      gene_type = cs.GENE_TYPE_WORMBASE_ID)\n",
    "    "
   ]
  },
  {
   "cell_type": "code",
   "execution_count": null,
   "id": "8842b0ce",
   "metadata": {},
   "outputs": [],
   "source": [
    "derived_data_path = Path(\"../derived_data/wang_lab\")\n",
    "input_data_path = derived_data_path / \"500\"\n",
    "output_analysis_path = \"../analysis/wang_lab/500\"\n",
    "\n",
    "annotation_nm = \"Whole Genome\"\n",
    "annotation_file = \"whole_genome_v2_nov-11-2021.csv\"\n",
    "files = list_excel_files(input_data_path)\n",
    "for file_nm in files:\n",
    "    run_batch(file_nm, input_data_path, output_analysis_path, annotation_nm, annotation_file)"
   ]
  },
  {
   "cell_type": "code",
   "execution_count": null,
   "id": "7e39e888",
   "metadata": {},
   "outputs": [],
   "source": [
    "derived_data_path = Path(\"../derived_data/wang_lab\")\n",
    "input_data_path = derived_data_path / \"1000\"\n",
    "output_analysis_path = \"../analysis/wang_lab/1000\"\n",
    "\n",
    "annotation_nm = \"Whole Genome\"\n",
    "annotation_file = \"whole_genome_v2_nov-11-2021.csv\"\n",
    "files = list_excel_files(input_data_path)\n",
    "for file_nm in files:\n",
    "    run_batch(file_nm, input_data_path, output_analysis_path, annotation_nm, annotation_file)\n",
    "\n"
   ]
  },
  {
   "cell_type": "code",
   "execution_count": null,
   "id": "771b63ad",
   "metadata": {},
   "outputs": [],
   "source": []
  }
 ],
 "metadata": {
  "kernelspec": {
   "display_name": "dan-dev-py312-r433",
   "language": "python",
   "name": "python3"
  },
  "language_info": {
   "codemirror_mode": {
    "name": "ipython",
    "version": 3
   },
   "file_extension": ".py",
   "mimetype": "text/x-python",
   "name": "python",
   "nbconvert_exporter": "python",
   "pygments_lexer": "ipython3",
   "version": "3.12.2"
  }
 },
 "nbformat": 4,
 "nbformat_minor": 5
}
