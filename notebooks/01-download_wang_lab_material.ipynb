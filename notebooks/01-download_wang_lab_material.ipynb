{
 "cells": [
  {
   "cell_type": "markdown",
   "id": "0f178e25",
   "metadata": {},
   "source": [
    "### Conda Environment\n",
    "\n",
    "Using Kernel: `dan-dev-py312-r433`\n",
    "\n",
    "-----"
   ]
  },
  {
   "cell_type": "markdown",
   "id": "3cf915d9",
   "metadata": {},
   "source": [
    "# Wang Lab Papers"
   ]
  },
  {
   "cell_type": "markdown",
   "id": "f057c805",
   "metadata": {},
   "source": [
    "#### Aging atlas reveals cell-type-specific effects of pro-longevity strategies\n",
    "\n",
    "- Shiny App\n",
    "    - https://agingc.shinyapps.io/AgingC_expression/\n",
    "\n",
    "- Paper Location\n",
    "    - https://www.nature.com/articles/s43587-024-00631-1\n",
    "\n",
    "- Data\n",
    "    - https://www.ncbi.nlm.nih.gov/geo/download/?acc=GSE229022&format=file&file=GSE229022%5Fintegrated%5Fseurat%5Frevision%2Erds%2Egz\n",
    "\n",
    "    - https://www.ncbi.nlm.nih.gov/geo/download/?acc=GSE229022&format=file"
   ]
  },
  {
   "cell_type": "markdown",
   "id": "1ef27c7c",
   "metadata": {},
   "source": [
    "-----\n",
    "\n",
    "- **Download source materials**"
   ]
  },
  {
   "cell_type": "code",
   "execution_count": null,
   "id": "4d878280",
   "metadata": {},
   "outputs": [
    {
     "name": "stdout",
     "output_type": "stream",
     "text": [
      "  % Total    % Received % Xferd  Average Speed   Time    Time     Time  Current\n",
      "                                 Dload  Upload   Total   Spent    Left  Speed\n",
      "100  904M  100  904M    0     0  14.7M      0  0:01:01  0:01:01 --:--:-- 18.7M  0:01:11  0:00:24  0:00:47 13.1M00:46  0:00:26 13.7M\n",
      "x GSM7147945_BWD1_barcodes.tsv.gz\n",
      "x GSM7147945_BWD1_features.tsv.gz\n",
      "x GSM7147945_BWD1_matrix.mtx.gz\n",
      "x GSM7147946_BWD6_barcodes.tsv.gz\n",
      "x GSM7147946_BWD6_features.tsv.gz\n",
      "x GSM7147946_BWD6_matrix.mtx.gz\n",
      "x GSM7147947_DAF2D1_barcodes.tsv.gz\n",
      "x GSM7147947_DAF2D1_features.tsv.gz\n",
      "x GSM7147947_DAF2D1_matrix.mtx.gz\n",
      "x GSM7147948_DAF2D6_barcodes.tsv.gz\n",
      "x GSM7147948_DAF2D6_features.tsv.gz\n",
      "x GSM7147948_DAF2D6_matrix.mtx.gz\n",
      "x GSM7147949_DLOND1_barcodes.tsv.gz\n",
      "x GSM7147949_DLOND1_features.tsv.gz\n",
      "x GSM7147949_DLOND1_matrix.mtx.gz\n",
      "x GSM7147950_DLOND6_barcodes.tsv.gz\n",
      "x GSM7147950_DLOND6_features.tsv.gz\n",
      "x GSM7147950_DLOND6_matrix.mtx.gz\n",
      "x GSM7147951_LIPL4D1_barcodes.tsv.gz\n",
      "x GSM7147951_LIPL4D1_features.tsv.gz\n",
      "x GSM7147951_LIPL4D1_matrix.mtx.gz\n",
      "x GSM7147952_LIPL4D6_barcodes.tsv.gz\n",
      "x GSM7147952_LIPL4D6_features.tsv.gz\n",
      "x GSM7147952_LIPL4D6_matrix.mtx.gz\n",
      "x GSM7147953_N2D1_barcodes.tsv.gz\n",
      "x GSM7147953_N2D1_features.tsv.gz\n",
      "x GSM7147953_N2D1_matrix.mtx.gz\n",
      "x GSM7147954_N2D12_barcodes.tsv.gz\n",
      "x GSM7147954_N2D12_features.tsv.gz\n",
      "x GSM7147954_N2D12_matrix.mtx.gz\n",
      "x GSM7147955_N2D14_barcodes.tsv.gz\n",
      "x GSM7147955_N2D14_features.tsv.gz\n",
      "x GSM7147955_N2D14_matrix.mtx.gz\n",
      "x GSM7147956_N2D1early_barcodes.tsv.gz\n",
      "x GSM7147956_N2D1early_features.tsv.gz\n",
      "x GSM7147956_N2D1early_matrix.mtx.gz\n",
      "x GSM7147957_N2D1R_barcodes.tsv.gz\n",
      "x GSM7147957_N2D1R_features.tsv.gz\n",
      "x GSM7147957_N2D1R_matrix.mtx.gz\n",
      "x GSM7147958_N2D6_barcodes.tsv.gz\n",
      "x GSM7147958_N2D6_features.tsv.gz\n",
      "x GSM7147958_N2D6_matrix.mtx.gz\n",
      "x GSM7147959_N2HTD1_barcodes.tsv.gz\n",
      "x GSM7147959_N2HTD1_features.tsv.gz\n",
      "x GSM7147959_N2HTD1_matrix.mtx.gz\n",
      "x GSM7147960_N2HTD5_barcodes.tsv.gz\n",
      "x GSM7147960_N2HTD5_features.tsv.gz\n",
      "x GSM7147960_N2HTD5_matrix.mtx.gz\n",
      "x GSM7147961_N2OPD1_barcodes.tsv.gz\n",
      "x GSM7147961_N2OPD1_features.tsv.gz\n",
      "x GSM7147961_N2OPD1_matrix.mtx.gz\n",
      "x GSM7147962_RSKS1D1_barcodes.tsv.gz\n",
      "x GSM7147962_RSKS1D1_features.tsv.gz\n",
      "x GSM7147962_RSKS1D1_matrix.mtx.gz\n",
      "x GSM7147963_RSKS1D6_barcodes.tsv.gz\n",
      "x GSM7147963_RSKS1D6_features.tsv.gz\n",
      "x GSM7147963_RSKS1D6_matrix.mtx.gz\n",
      "x GSM8029690_N2D12R_barcodes.tsv.gz\n",
      "x GSM8029690_N2D12R_features.tsv.gz\n",
      "x GSM8029690_N2D12R_matrix.mtx.gz\n",
      "x GSM8029691_N2D12R2_barcodes.tsv.gz\n",
      "x GSM8029691_N2D12R2_features.tsv.gz\n",
      "x GSM8029691_N2D12R2_matrix.mtx.gz\n",
      "x GSM8029692_RSKS1D12_barcodes.tsv.gz\n",
      "x GSM8029692_RSKS1D12_features.tsv.gz\n",
      "x GSM8029692_RSKS1D12_matrix.mtx.gz\n",
      "x GSM8029693_N2D6R_barcodes.tsv.gz\n",
      "x GSM8029693_N2D6R_features.tsv.gz\n",
      "x GSM8029693_N2D6R_matrix.mtx.gz\n",
      "x GSM8029694_N2D6R2_barcodes.tsv.gz\n",
      "x GSM8029694_N2D6R2_features.tsv.gz\n",
      "x GSM8029694_N2D6R2_matrix.mtx.gz\n",
      "x GSM8029695_N2D14R_barcodes.tsv.gz\n",
      "x GSM8029695_N2D14R_features.tsv.gz\n",
      "x GSM8029695_N2D14R_matrix.mtx.gz\n",
      "x GSM8029696_N2D14R2_barcodes.tsv.gz\n",
      "x GSM8029696_N2D14R2_features.tsv.gz\n",
      "x GSM8029696_N2D14R2_matrix.mtx.gz\n",
      "x GSM8029697_LIPL4D12_barcodes.tsv.gz\n",
      "x GSM8029697_LIPL4D12_features.tsv.gz\n",
      "x GSM8029697_LIPL4D12_matrix.mtx.gz\n",
      "x GSM8029698_DAF2D12_barcodes.tsv.gz\n",
      "x GSM8029698_DAF2D12_features.tsv.gz\n",
      "x GSM8029698_DAF2D12_matrix.mtx.gz\n"
     ]
    }
   ],
   "source": [
    "# Aging atlas reveals cell-type-specific effects of pro-longevity strategies\n",
    "\n",
    "!mkdir -p ../source_data/wang_lab/GSE229022_RAW\n",
    "!cd ../source_data/wang_lab && curl -L -o GSE229022_RAW.tar \\\n",
    "  -H \"User-Agent: Mozilla/5.0\" \\\n",
    "  \"https://www.ncbi.nlm.nih.gov/geo/download/?acc=GSE229022&format=file\"\n",
    "  \n",
    "!cd ../source_data/wang_lab && tar -xvf GSE229022_RAW.tar -C ./GSE229022_RAW\n",
    "!cd ../source_data/wang_lab && rm GSE229022_RAW.tar"
   ]
  },
  {
   "cell_type": "code",
   "execution_count": null,
   "id": "56f9d420",
   "metadata": {},
   "outputs": [
    {
     "name": "stdout",
     "output_type": "stream",
     "text": [
      "  % Total    % Received % Xferd  Average Speed   Time    Time     Time  Current\n",
      "                                 Dload  Upload   Total   Spent    Left  Speed\n",
      "100 7835M  100 7835M    0     0  7582k      0  0:17:38  0:17:38 --:--:-- 15.8M0  0:17:56  0:01:55  0:16:01 6074k6k      0  0:18:45  0:02:12  0:16:33 6579k 0:16:23 6026k06k7057k      0  0:18:56  0:02:46  0:16:10 7458k0:18:30  0:03:08  0:15:22 6444k0  0:13:52 6485k:17:54  0:04:02  0:13:52 5566k30 7835M   30 2381M    0     0  7616k      0  0:17:33  0:05:20  0:12:13  9.8M  0:12:09 9394k   0  0:17:35  0:05:31  0:12:04 7216k534k      0  0:17:44  0:06:05  0:11:39 5077k4699k835M   35 2761M    0     0  7438k      0  0:17:58  0:06:20  0:11:38 3600k350k      0  0:18:11  0:06:29  0:11:42 4554k11:35 6796k22  0:07:13  0:11:09 8151k43k      0  0:18:12  0:08:06  0:10:06 9606k0     0  7369k      0  0:18:08  0:08:18  0:09:50 7982k0  0:18:08  0:08:19  0:09:49 7816k    0  0:18:07  0:08:52  0:09:15 6889k  0  0:18:07  0:08:53  0:09:14 7147k0  0:18:07  0:08:54  0:09:13 7516k0:08:59 7066k50k      0  0:18:11  0:09:20  0:08:51 6067k 5360k0:18:19  0:09:38  0:08:41 6231k08:39 5468k42k      0  0:17:58  0:10:44  0:07:14 9049k  0  0:18:04  0:10:57  0:07:07 4097k 11.9M0:18:09  0:12:13  0:05:56 13.0M     0  7380k      0  0:18:07  0:12:17  0:05:50 10.4M     0  7332k      0  0:18:14  0:12:57  0:05:17 5193k  0  7316k      0  0:18:16  0:13:02  0:05:14 4808kk      0  0:18:18  0:13:08  0:05:10 6048k0:05:06 6561k7269k      0  0:18:23  0:13:27  0:04:56 5916k69k      0  0:18:23  0:13:30  0:04:53 7086kk7318k      0  0:18:16  0:13:41  0:04:35 11.9M8k      0  0:18:14  0:13:44  0:04:30 10.6M50  0:04:25 6707k0M:05 9210k    0     0  7410k      0  0:18:02  0:14:24  0:03:38 15.0M 18.1M4k5k0  7561k      0  0:17:41  0:15:28  0:02:13 7699k33k      0  0:17:45  0:15:47  0:01:58 7148k  0     0  7510k      0  0:17:48  0:15:58  0:01:50 5173k503k      0  0:17:49  0:16:01  0:01:48 5180k8k      0  0:17:51  0:16:04  0:01:47 3580kk   0  0:17:49  0:16:48  0:01:01 6264k0  0:17:50  0:16:59  0:00:51 7741k\n"
     ]
    }
   ],
   "source": [
    "# Aging atlas reveals cell-type-specific effects of pro-longevity strategies\n",
    "\n",
    "!mkdir -p ../source_data/wang_lab\n",
    "!cd ../source_data/wang_lab && curl -L -o GSE229022_integrated_seurat_revision.rds.gz \\\n",
    "  -H \"User-Agent: Mozilla/5.0\" \\\n",
    "  \"https://www.ncbi.nlm.nih.gov/geo/download/?acc=GSE229022&format=file&file=GSE229022%5Fintegrated%5Fseurat%5Frevision%2Erds%2Egz\"\n",
    "  \n",
    "  !cd ../source_data/wang_lab && gunzip  GSE229022_integrated_seurat_revision.rds.gz\n",
    "  "
   ]
  },
  {
   "cell_type": "markdown",
   "id": "771d4535",
   "metadata": {},
   "source": [
    "-----\n",
    "- **Convert Seurat data to h5ad**"
   ]
  },
  {
   "cell_type": "code",
   "execution_count": 1,
   "id": "cd0330e4",
   "metadata": {},
   "outputs": [],
   "source": [
    "%load_ext rpy2.ipython\n",
    "\n",
    "import rpy2.robjects as ro\n",
    "import wormcat3\n",
    "import sys\n",
    "#print(sys.version)\n",
    "#print(f\"Wormcat3 {wormcat3.__version__}\")\n",
    "#ro.r('version')"
   ]
  },
  {
   "cell_type": "code",
   "execution_count": null,
   "id": "891546f7",
   "metadata": {},
   "outputs": [
    {
     "name": "stdout",
     "output_type": "stream",
     "text": [
      "An object of class Seurat \n",
      "28603 features across 241969 samples within 2 assays \n",
      "Active assay: RNA (26603 features, 0 variable features)\n",
      " 2 layers present: counts, data\n",
      " 1 other assay present: integrated\n",
      " 3 dimensional reductions calculated: pca, umap, tsne\n"
     ]
    }
   ],
   "source": [
    "%%R -o seurat_obj\n",
    "library('Seurat')\n",
    "rds_file <- file(\"../source_data/wang_lab/GSE229022_integrated_seurat_revision.rds\")\n",
    "seurat_obj <- readRDS(rds_file)\n",
    "seurat_obj"
   ]
  },
  {
   "cell_type": "code",
   "execution_count": null,
   "id": "2e5dc3a5",
   "metadata": {},
   "outputs": [
    {
     "name": "stderr",
     "output_type": "stream",
     "text": [
      "R[write to console]: Registered S3 method overwritten by 'SeuratDisk':\n",
      "  method            from  \n",
      "  as.sparse.H5Group Seurat\n",
      "\n",
      "R[write to console]: Creating h5Seurat file for version 3.1.5.9900\n",
      "\n",
      "R[write to console]: Adding counts for RNA\n",
      "\n",
      "R[write to console]: Adding data for RNA\n",
      "\n",
      "R[write to console]: No variable features found for RNA\n",
      "\n",
      "R[write to console]: No feature-level metadata found for RNA\n",
      "\n",
      "R[write to console]: Adding data for integrated\n",
      "\n",
      "R[write to console]: Adding scale.data for integrated\n",
      "\n",
      "R[write to console]: Adding variable features for integrated\n",
      "\n",
      "R[write to console]: No feature-level metadata found for integrated\n",
      "\n",
      "R[write to console]: Adding cell embeddings for pca\n",
      "\n",
      "R[write to console]: Adding loadings for pca\n",
      "\n",
      "R[write to console]: No projected loadings for pca\n",
      "\n",
      "R[write to console]: Adding standard deviations for pca\n",
      "\n",
      "R[write to console]: No JackStraw data for pca\n",
      "\n",
      "R[write to console]: Adding cell embeddings for umap\n",
      "\n",
      "R[write to console]: No loadings for umap\n",
      "\n",
      "R[write to console]: No projected loadings for umap\n",
      "\n",
      "R[write to console]: No standard deviations for umap\n",
      "\n",
      "R[write to console]: No JackStraw data for umap\n",
      "\n",
      "R[write to console]: Adding cell embeddings for tsne\n",
      "\n",
      "R[write to console]: No loadings for tsne\n",
      "\n",
      "R[write to console]: No projected loadings for tsne\n",
      "\n",
      "R[write to console]: No standard deviations for tsne\n",
      "\n",
      "R[write to console]: No JackStraw data for tsne\n",
      "\n",
      "R[write to console]: Validating h5Seurat file\n",
      "\n",
      "R[write to console]: Adding data from RNA as X\n",
      "\n",
      "R[write to console]: Adding counts from RNA as raw\n",
      "\n",
      "R[write to console]: Transfering meta.data to obs\n",
      "\n",
      "R[write to console]: Adding dimensional reduction information for tsne (global)\n",
      "\n",
      "R[write to console]: Adding dimensional reduction information for umap (global)\n",
      "\n"
     ]
    }
   ],
   "source": [
    "%%R\n",
    "library(SeuratDisk)\n",
    "SaveH5Seurat(seurat_obj, filename = \"../source_data/wang_lab/seurat_obj.h5Seurat\")\n",
    "Convert(\"../source_data/wang_lab/seurat_obj.h5Seurat\", dest = \"h5ad\")"
   ]
  },
  {
   "cell_type": "code",
   "execution_count": null,
   "id": "6b483c13",
   "metadata": {},
   "outputs": [
    {
     "name": "stdout",
     "output_type": "stream",
     "text": [
      "rm: seurat_obj.h5Seurat: No such file or directory\n"
     ]
    }
   ],
   "source": [
    "# delete intermediate file seurat_obj.h5Seurat\n",
    "\n",
    "!cd ../source_data/wang_lab && rm seurat_obj.h5Seurat"
   ]
  },
  {
   "cell_type": "markdown",
   "id": "f00a0c68",
   "metadata": {},
   "source": [
    "-----\n",
    "\n",
    "- **Create README.md**"
   ]
  },
  {
   "cell_type": "code",
   "execution_count": 2,
   "id": "a382866b",
   "metadata": {},
   "outputs": [],
   "source": [
    "readme = \"\"\"\n",
    "#### Aging atlas reveals cell-type-specific effects of pro-longevity strategies\n",
    "\n",
    "- Shiny App\n",
    "    - https://agingc.shinyapps.io/AgingC_expression/\n",
    "\n",
    "- Paper Location\n",
    "    - https://www.nature.com/articles/s43587-024-00631-1\n",
    "\n",
    "- Data\n",
    "    - https://www.ncbi.nlm.nih.gov/geo/download/?acc=GSE229022&format=file&file=GSE229022%5Fintegrated%5Fseurat%5Frevision%2Erds%2Egz\n",
    "\n",
    "    - https://www.ncbi.nlm.nih.gov/geo/download/?acc=GSE229022&format=file\n",
    "\"\"\"\n",
    "with open(\"../source_data/wang_lab/README.md\", \"w\", encoding=\"utf-8\") as f:\n",
    "    f.write(readme)"
   ]
  }
 ],
 "metadata": {
  "kernelspec": {
   "display_name": "dan-dev-py312-r433",
   "language": "python",
   "name": "python3"
  },
  "language_info": {
   "codemirror_mode": {
    "name": "ipython",
    "version": 3
   },
   "file_extension": ".py",
   "mimetype": "text/x-python",
   "name": "python",
   "nbconvert_exporter": "python",
   "pygments_lexer": "ipython3",
   "version": "3.12.2"
  }
 },
 "nbformat": 4,
 "nbformat_minor": 5
}
