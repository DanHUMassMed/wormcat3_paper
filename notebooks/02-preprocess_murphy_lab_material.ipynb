{
 "cells": [
  {
   "cell_type": "markdown",
   "id": "98067f56",
   "metadata": {},
   "source": [
    "### Conda Environment\n",
    "\n",
    "Using Kernel: `dan-dev-py312-r433`\n",
    "\n",
    "-----"
   ]
  },
  {
   "cell_type": "markdown",
   "id": "9ba207e0",
   "metadata": {},
   "source": [
    "#### Stage the data\n",
    "\n",
    "- Staging Murphy Lab Data from Supplemental Materials to **original_source_data**\n",
    "\n",
    "**Files:**\n",
    "> - WMurphy_TS.xlsx"
   ]
  },
  {
   "cell_type": "markdown",
   "id": "0f5e56bd",
   "metadata": {},
   "source": [
    "---- \n",
    "\n",
    "- **Helper functions**\n"
   ]
  },
  {
   "cell_type": "code",
   "execution_count": null,
   "id": "757a7881",
   "metadata": {},
   "outputs": [],
   "source": [
    "import pandas as pd\n",
    "from pathlib import Path\n",
    "\n",
    "import pandas as pd\n",
    "\n",
    "def read_excel_sheets(file_path):\n",
    "    \"\"\"\n",
    "    Reads an Excel file with multiple sheets into a dictionary of DataFrames.\n",
    "    \"\"\"\n",
    "    try:\n",
    "        sheet_dict = pd.read_excel(file_path, sheet_name=None)\n",
    "        return sheet_dict\n",
    "    except Exception as e:\n",
    "        print(f\"Error reading Excel file: {e}\")\n",
    "        return {}\n",
    "            \n",
    "\n",
    "def write_gene_ids_to_excel(sheet_dict, output_file):\n",
    "    \"\"\"\n",
    "    Writes a new Excel file with one sheet per key in the dictionary.\n",
    "    Each sheet contains only the 'WormBase Gene ID' column from the original\n",
    "    DataFrame, renamed to 'Wormbase ID'.\n",
    "    \"\"\"\n",
    "    directory = Path(output_file).parent\n",
    "    directory.mkdir(parents=True, exist_ok=True)\n",
    "    with pd.ExcelWriter(output_file, engine='openpyxl') as writer:\n",
    "        for sheet_name, df in sheet_dict.items():\n",
    "            if 'WormBase Gene ID' in df.columns:\n",
    "                gene_ids_df = df[['WormBase Gene ID']].copy()\n",
    "                gene_ids_df.rename(columns={'WormBase Gene ID': 'Wormbase ID'}, inplace=True)\n",
    "                gene_ids_df.to_excel(writer, sheet_name=sheet_name, index=False)\n",
    "            else:\n",
    "                print(f\"Warning: 'WormBase Gene ID' column not found in sheet '{sheet_name}'. Skipping.\")\n",
    "                \n",
    "                "
   ]
  },
  {
   "cell_type": "markdown",
   "id": "a55498b7",
   "metadata": {},
   "source": [
    "-----\n",
    "\n",
    "- **Preprocess**"
   ]
  },
  {
   "cell_type": "code",
   "execution_count": null,
   "id": "8da53e10",
   "metadata": {},
   "outputs": [],
   "source": [
    "# Recreate the Murphy_TS.xlsx from the source material\n",
    "\n",
    "sheet_dict = read_excel_sheets(\"../source_data/murphy_lab/pgen.1007559.s010.xlsx\")\n",
    "write_gene_ids_to_excel(sheet_dict, \"../derived_data/murphy_lab/Murphy_TS.xlsx\")"
   ]
  },
  {
   "cell_type": "code",
   "execution_count": null,
   "id": "94c10736",
   "metadata": {},
   "outputs": [],
   "source": []
  }
 ],
 "metadata": {
  "kernelspec": {
   "display_name": "dan-dev-py312-r433",
   "language": "python",
   "name": "python3"
  },
  "language_info": {
   "codemirror_mode": {
    "name": "ipython",
    "version": 3
   },
   "file_extension": ".py",
   "mimetype": "text/x-python",
   "name": "python",
   "nbconvert_exporter": "python",
   "pygments_lexer": "ipython3",
   "version": "3.12.2"
  }
 },
 "nbformat": 4,
 "nbformat_minor": 5
}
